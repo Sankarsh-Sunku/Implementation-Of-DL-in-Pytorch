{
  "nbformat": 4,
  "nbformat_minor": 0,
  "metadata": {
    "colab": {
      "provenance": [],
      "authorship_tag": "ABX9TyNyesFDY13BWeTXqKvHSLEp",
      "include_colab_link": true
    },
    "kernelspec": {
      "name": "python3",
      "display_name": "Python 3"
    },
    "language_info": {
      "name": "python"
    }
  },
  "cells": [
    {
      "cell_type": "markdown",
      "metadata": {
        "id": "view-in-github",
        "colab_type": "text"
      },
      "source": [
        "<a href=\"https://colab.research.google.com/github/Sankarsh-Sunku/Implementation-Of-DL-in-Pytorch/blob/main/Data/TorchDataset_and_DataLoader.ipynb\" target=\"_parent\"><img src=\"https://colab.research.google.com/assets/colab-badge.svg\" alt=\"Open In Colab\"/></a>"
      ]
    },
    {
      "cell_type": "code",
      "execution_count": 4,
      "metadata": {
        "id": "rYAFgjk2f3Tm"
      },
      "outputs": [],
      "source": [
        "# import libraries\n",
        "import numpy as np\n",
        "import torch\n",
        "from torch.utils.data import DataLoader,TensorDataset"
      ]
    },
    {
      "cell_type": "code",
      "source": [
        "# create some data in numpy\n",
        "\n",
        "nObservations = 100\n",
        "nFeatures = 20\n",
        "\n",
        "data = np.random.randn(nObservations,nFeatures)"
      ],
      "metadata": {
        "id": "ZMmN3Nb4f3w2"
      },
      "execution_count": 5,
      "outputs": []
    },
    {
      "cell_type": "code",
      "source": [
        "# Convert to pytorch tensor\n",
        "dataT = torch.tensor( data )\n",
        "\n",
        "# print out some information\n",
        "print('Numpy data:')\n",
        "print(type(data))\n",
        "print(data.shape) # numpy -> .shape\n",
        "print(data.dtype)\n",
        "print(' ')\n",
        "\n",
        "print('Tensor data:')\n",
        "print(type(dataT))\n",
        "print(dataT.size()) # torch -> .size()\n",
        "print(dataT.dtype)\n",
        "print(' ')"
      ],
      "metadata": {
        "colab": {
          "base_uri": "https://localhost:8080/"
        },
        "id": "eRJH3EFVf5Jh",
        "outputId": "435b2e9a-c141-4835-8666-dd3552e50819"
      },
      "execution_count": 6,
      "outputs": [
        {
          "output_type": "stream",
          "name": "stdout",
          "text": [
            "Numpy data:\n",
            "<class 'numpy.ndarray'>\n",
            "(100, 20)\n",
            "float64\n",
            " \n",
            "Tensor data:\n",
            "<class 'torch.Tensor'>\n",
            "torch.Size([100, 20])\n",
            "torch.float64\n",
            " \n"
          ]
        }
      ]
    },
    {
      "cell_type": "code",
      "source": [
        "# Sometimes you need to convert data types\n",
        "\n",
        "dataT2 = torch.tensor( data ).float()\n",
        "print(dataT2.dtype)\n",
        "\n",
        "# \"long\" is for ints\n",
        "dataT3 = torch.tensor( data ).long()\n",
        "print(dataT3.dtype)\n"
      ],
      "metadata": {
        "colab": {
          "base_uri": "https://localhost:8080/"
        },
        "id": "bCMZFxdwf6iV",
        "outputId": "2b3696b1-ad43-451f-8c3a-3176d6b18f9a"
      },
      "execution_count": 7,
      "outputs": [
        {
          "output_type": "stream",
          "name": "stdout",
          "text": [
            "torch.float32\n",
            "torch.int64\n"
          ]
        }
      ]
    },
    {
      "cell_type": "code",
      "source": [
        "# Convert tensor into PyTorch Datasets\n",
        "\n",
        "# dataset = TensorDataset(data) # not a tensor!\n",
        "dataset = TensorDataset(dataT)\n",
        "\n",
        "# dataset is a two-element tuple comprising data,labels\n",
        "dataset.tensors[0]"
      ],
      "metadata": {
        "colab": {
          "base_uri": "https://localhost:8080/"
        },
        "id": "FCp08swcg4Sh",
        "outputId": "4e6fc8c3-7af2-4ba4-fdd8-2532d9a4344e"
      },
      "execution_count": 8,
      "outputs": [
        {
          "output_type": "execute_result",
          "data": {
            "text/plain": [
              "tensor([[-0.4328,  1.0141,  0.6442,  ..., -1.3342, -0.4058, -1.2654],\n",
              "        [ 1.1056, -0.5323,  0.7121,  ..., -0.3944,  1.8568, -0.1538],\n",
              "        [ 2.2910,  0.7697, -0.0677,  ..., -0.1320,  0.4703, -0.0423],\n",
              "        ...,\n",
              "        [ 1.2105, -0.3551, -0.3961,  ..., -0.3072, -0.9417, -0.2553],\n",
              "        [-0.2958, -0.5737, -1.3026,  ...,  0.1526, -1.2723, -1.8137],\n",
              "        [ 1.8832,  0.5798,  0.5449,  ...,  0.4484, -0.0052, -0.7095]],\n",
              "       dtype=torch.float64)"
            ]
          },
          "metadata": {},
          "execution_count": 8
        }
      ]
    },
    {
      "cell_type": "code",
      "source": [
        "# Let's try again with labels\n",
        "labels = torch.ceil(torch.linspace(.01,4,nObservations))\n",
        "print( labels.shape )\n",
        "\n",
        "# transform to an actual matrix (column vector)\n",
        "labels = labels.reshape(( len(labels),1 ))\n",
        "print( labels.shape )\n",
        "\n",
        "# now make another dataset\n",
        "dataset = TensorDataset(dataT,labels)\n",
        "print( dataset.tensors[0].size() )\n",
        "print( dataset.tensors[1].size() )\n",
        "\n",
        "# for comparison\n",
        "print( np.shape(np.random.randint(5,size=nObservations)) )"
      ],
      "metadata": {
        "colab": {
          "base_uri": "https://localhost:8080/"
        },
        "id": "pbdD7OXjg6rq",
        "outputId": "c98f0c94-6d36-420b-b953-40bcd8f1b20f"
      },
      "execution_count": 12,
      "outputs": [
        {
          "output_type": "stream",
          "name": "stdout",
          "text": [
            "torch.Size([100])\n",
            "torch.Size([100, 1])\n",
            "torch.Size([100, 20])\n",
            "torch.Size([100, 1])\n",
            "(100,)\n"
          ]
        }
      ]
    },
    {
      "cell_type": "code",
      "source": [
        "# create a dataloader object\n",
        "batchsize = 25\n",
        "dataloader = DataLoader(dataset,batch_size=batchsize)#,shuffle=True,drop_last=True)\n",
        "\n",
        "dataloader.dataset.tensors[0].size()"
      ],
      "metadata": {
        "colab": {
          "base_uri": "https://localhost:8080/"
        },
        "id": "gtZjb75og91r",
        "outputId": "2ede6862-3610-4e4f-a555-32844e495c6a"
      },
      "execution_count": 13,
      "outputs": [
        {
          "output_type": "execute_result",
          "data": {
            "text/plain": [
              "torch.Size([100, 20])"
            ]
          },
          "metadata": {},
          "execution_count": 13
        }
      ]
    },
    {
      "cell_type": "code",
      "source": [
        "# sizes of each batch\n",
        "for dat,labs in dataloader:\n",
        "  print('BATCH INFO:')\n",
        "  print(dat.size())\n",
        "  print(labs.size())\n",
        "  print(' ')"
      ],
      "metadata": {
        "colab": {
          "base_uri": "https://localhost:8080/"
        },
        "id": "arjRV23nhaGP",
        "outputId": "1bb34ba0-db4e-4aff-98fa-9f279bb31de2"
      },
      "execution_count": 14,
      "outputs": [
        {
          "output_type": "stream",
          "name": "stdout",
          "text": [
            "BATCH INFO:\n",
            "torch.Size([25, 20])\n",
            "torch.Size([25, 1])\n",
            " \n",
            "BATCH INFO:\n",
            "torch.Size([25, 20])\n",
            "torch.Size([25, 1])\n",
            " \n",
            "BATCH INFO:\n",
            "torch.Size([25, 20])\n",
            "torch.Size([25, 1])\n",
            " \n",
            "BATCH INFO:\n",
            "torch.Size([25, 20])\n",
            "torch.Size([25, 1])\n",
            " \n"
          ]
        }
      ]
    },
    {
      "cell_type": "code",
      "source": [
        "# inspect the labels\n",
        "for dat,labs in dataloader:\n",
        "  print(labs.T)\n",
        "  print(' ')"
      ],
      "metadata": {
        "colab": {
          "base_uri": "https://localhost:8080/"
        },
        "id": "SEVkmk3Lhbii",
        "outputId": "80e980e6-437f-473a-d17d-9845e1012e51"
      },
      "execution_count": 15,
      "outputs": [
        {
          "output_type": "stream",
          "name": "stdout",
          "text": [
            "tensor([[1., 1., 1., 1., 1., 1., 1., 1., 1., 1., 1., 1., 1., 1., 1., 1., 1., 1.,\n",
            "         1., 1., 1., 1., 1., 1., 1.]])\n",
            " \n",
            "tensor([[2., 2., 2., 2., 2., 2., 2., 2., 2., 2., 2., 2., 2., 2., 2., 2., 2., 2.,\n",
            "         2., 2., 2., 2., 2., 2., 2.]])\n",
            " \n",
            "tensor([[3., 3., 3., 3., 3., 3., 3., 3., 3., 3., 3., 3., 3., 3., 3., 3., 3., 3.,\n",
            "         3., 3., 3., 3., 3., 3., 3.]])\n",
            " \n",
            "tensor([[4., 4., 4., 4., 4., 4., 4., 4., 4., 4., 4., 4., 4., 4., 4., 4., 4., 4.,\n",
            "         4., 4., 4., 4., 4., 4., 4.]])\n",
            " \n"
          ]
        }
      ]
    },
    {
      "cell_type": "code",
      "source": [
        "# try again with shuffling (shuffling happens during iterations)\n",
        "# dataloader = DataLoader(dataset,batch_size=batchsize,shuffle=True)\n",
        "\n",
        "for dat,labs in dataloader:\n",
        "  print(labs.T)\n",
        "  print(' ')"
      ],
      "metadata": {
        "colab": {
          "base_uri": "https://localhost:8080/"
        },
        "id": "iaMVIDrthfhC",
        "outputId": "08e731a3-11e5-4f62-dd4f-a95123abf03a"
      },
      "execution_count": 16,
      "outputs": [
        {
          "output_type": "stream",
          "name": "stdout",
          "text": [
            "tensor([[1., 1., 1., 1., 1., 1., 1., 1., 1., 1., 1., 1., 1., 1., 1., 1., 1., 1.,\n",
            "         1., 1., 1., 1., 1., 1., 1.]])\n",
            " \n",
            "tensor([[2., 2., 2., 2., 2., 2., 2., 2., 2., 2., 2., 2., 2., 2., 2., 2., 2., 2.,\n",
            "         2., 2., 2., 2., 2., 2., 2.]])\n",
            " \n",
            "tensor([[3., 3., 3., 3., 3., 3., 3., 3., 3., 3., 3., 3., 3., 3., 3., 3., 3., 3.,\n",
            "         3., 3., 3., 3., 3., 3., 3.]])\n",
            " \n",
            "tensor([[4., 4., 4., 4., 4., 4., 4., 4., 4., 4., 4., 4., 4., 4., 4., 4., 4., 4.,\n",
            "         4., 4., 4., 4., 4., 4., 4.]])\n",
            " \n"
          ]
        }
      ]
    },
    {
      "cell_type": "code",
      "source": [
        "# To get only one batch (e.g., for testing)\n",
        "\n",
        "dat,labs = next(iter(dataloader))\n",
        "\n",
        "labs"
      ],
      "metadata": {
        "colab": {
          "base_uri": "https://localhost:8080/"
        },
        "id": "dYEdBpzthg5j",
        "outputId": "d9221860-d4b7-4bee-fcb4-9bdd94ebc53b"
      },
      "execution_count": 17,
      "outputs": [
        {
          "output_type": "execute_result",
          "data": {
            "text/plain": [
              "tensor([[1.],\n",
              "        [1.],\n",
              "        [1.],\n",
              "        [1.],\n",
              "        [1.],\n",
              "        [1.],\n",
              "        [1.],\n",
              "        [1.],\n",
              "        [1.],\n",
              "        [1.],\n",
              "        [1.],\n",
              "        [1.],\n",
              "        [1.],\n",
              "        [1.],\n",
              "        [1.],\n",
              "        [1.],\n",
              "        [1.],\n",
              "        [1.],\n",
              "        [1.],\n",
              "        [1.],\n",
              "        [1.],\n",
              "        [1.],\n",
              "        [1.],\n",
              "        [1.],\n",
              "        [1.]])"
            ]
          },
          "metadata": {},
          "execution_count": 17
        }
      ]
    },
    {
      "cell_type": "code",
      "source": [],
      "metadata": {
        "id": "S3OlrpWOhiCz"
      },
      "execution_count": null,
      "outputs": []
    }
  ]
}