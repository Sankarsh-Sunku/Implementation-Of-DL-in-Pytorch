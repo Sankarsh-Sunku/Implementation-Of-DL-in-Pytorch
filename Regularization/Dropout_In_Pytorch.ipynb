{
  "nbformat": 4,
  "nbformat_minor": 0,
  "metadata": {
    "colab": {
      "provenance": [],
      "authorship_tag": "ABX9TyOxfaFcGFq26FwkRFMRsgOh",
      "include_colab_link": true
    },
    "kernelspec": {
      "name": "python3",
      "display_name": "Python 3"
    },
    "language_info": {
      "name": "python"
    }
  },
  "cells": [
    {
      "cell_type": "markdown",
      "metadata": {
        "id": "view-in-github",
        "colab_type": "text"
      },
      "source": [
        "<a href=\"https://colab.research.google.com/github/Sankarsh-Sunku/Implementation-Of-DL-in-Pytorch/blob/main/Regularization/Dropout_In_Pytorch.ipynb\" target=\"_parent\"><img src=\"https://colab.research.google.com/assets/colab-badge.svg\" alt=\"Open In Colab\"/></a>"
      ]
    },
    {
      "cell_type": "code",
      "execution_count": 1,
      "metadata": {
        "id": "GBhYDUBneKlb"
      },
      "outputs": [],
      "source": [
        "# import libraries\n",
        "import torch\n",
        "import torch.nn as nn\n",
        "import torch.nn.functional as F"
      ]
    },
    {
      "cell_type": "code",
      "source": [
        "# define a dropout instance and make some data\n",
        "prob = .5\n",
        "\n",
        "dropout = nn.Dropout(p=prob)#by default it will be 0.5\n",
        "x = torch.ones(10)\n",
        "\n",
        "# let's see what dropout returns\n",
        "y = dropout(x)\n",
        "print(x)\n",
        "print(y*(1-prob))\n",
        "print(torch.mean(y))\n",
        "\n",
        "# nn.Dropout(p=prob) randomly sets elements of a tensor to zero with probability p (here, 0.5) during training, and scales the rest up to keep the expected value the same."
      ],
      "metadata": {
        "colab": {
          "base_uri": "https://localhost:8080/"
        },
        "id": "wPF-hDHGecl8",
        "outputId": "04ec1d7f-06cf-4800-926d-69c249e5a7b3"
      },
      "execution_count": 5,
      "outputs": [
        {
          "output_type": "stream",
          "name": "stdout",
          "text": [
            "tensor([1., 1., 1., 1., 1., 1., 1., 1., 1., 1.])\n",
            "tensor([1., 0., 0., 0., 0., 0., 0., 1., 0., 0.])\n",
            "tensor(0.4000)\n"
          ]
        }
      ]
    },
    {
      "cell_type": "code",
      "source": [
        "# dropout is turned off when evaluating the model\n",
        "dropout.eval()\n",
        "y = dropout(x)\n",
        "print(y)\n",
        "print(torch.mean(y))"
      ],
      "metadata": {
        "colab": {
          "base_uri": "https://localhost:8080/"
        },
        "id": "wuyVj1YBemtR",
        "outputId": "c2821f36-0fd0-447f-c164-8a250bfe8a62"
      },
      "execution_count": 6,
      "outputs": [
        {
          "output_type": "stream",
          "name": "stdout",
          "text": [
            "tensor([1., 1., 1., 1., 1., 1., 1., 1., 1., 1.])\n",
            "tensor(1.)\n"
          ]
        }
      ]
    },
    {
      "cell_type": "code",
      "source": [
        "# annoyingly, F.dropout() is not deactivated in eval mode:\n",
        "\n",
        "dropout.eval()\n",
        "y = F.dropout(x)\n",
        "print(y)\n",
        "print(torch.mean(y))"
      ],
      "metadata": {
        "colab": {
          "base_uri": "https://localhost:8080/"
        },
        "id": "SILC_s6des6t",
        "outputId": "2129646c-494d-4fa0-9120-ac2328f8972e"
      },
      "execution_count": 7,
      "outputs": [
        {
          "output_type": "stream",
          "name": "stdout",
          "text": [
            "tensor([2., 0., 2., 2., 0., 2., 0., 2., 0., 2.])\n",
            "tensor(1.2000)\n"
          ]
        }
      ]
    },
    {
      "cell_type": "code",
      "source": [
        "# but you can manually switch it off\n",
        "# dropout.eval()\n",
        "y = F.dropout(x,training=False)\n",
        "\n",
        "print(y)\n",
        "print(torch.mean(y))"
      ],
      "metadata": {
        "colab": {
          "base_uri": "https://localhost:8080/"
        },
        "id": "few4eefreuNI",
        "outputId": "6e19f290-39c8-4c5b-ab8e-3ca6f634896f"
      },
      "execution_count": 8,
      "outputs": [
        {
          "output_type": "stream",
          "name": "stdout",
          "text": [
            "tensor([1., 1., 1., 1., 1., 1., 1., 1., 1., 1.])\n",
            "tensor(1.)\n"
          ]
        }
      ]
    },
    {
      "cell_type": "code",
      "source": [
        "# the model needs to be reset after toggling into eval mode\n",
        "\n",
        "dropout.train()\n",
        "y = dropout(x)\n",
        "print(y) # with dropout\n",
        "\n",
        "\n",
        "dropout.eval()\n",
        "y = dropout(x)\n",
        "print(y) # without dropout\n",
        "\n",
        "\n",
        "# dropout.train()\n",
        "y = dropout(x)\n",
        "print(y) # still w/o dropout ;)"
      ],
      "metadata": {
        "colab": {
          "base_uri": "https://localhost:8080/"
        },
        "id": "_IzwebTie07P",
        "outputId": "1e70f2d9-cde1-416b-b470-d06c9b8014b7"
      },
      "execution_count": 9,
      "outputs": [
        {
          "output_type": "stream",
          "name": "stdout",
          "text": [
            "tensor([0., 2., 2., 2., 2., 2., 2., 0., 2., 0.])\n",
            "tensor([1., 1., 1., 1., 1., 1., 1., 1., 1., 1.])\n",
            "tensor([1., 1., 1., 1., 1., 1., 1., 1., 1., 1.])\n"
          ]
        }
      ]
    },
    {
      "cell_type": "code",
      "source": [],
      "metadata": {
        "id": "YBblLRZtfGbC"
      },
      "execution_count": null,
      "outputs": []
    }
  ]
}