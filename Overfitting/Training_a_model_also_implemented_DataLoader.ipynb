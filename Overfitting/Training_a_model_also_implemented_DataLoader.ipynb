{
  "nbformat": 4,
  "nbformat_minor": 0,
  "metadata": {
    "colab": {
      "provenance": [],
      "authorship_tag": "ABX9TyPgEAHvrPcCKfEQSmW3nMMS",
      "include_colab_link": true
    },
    "kernelspec": {
      "name": "python3",
      "display_name": "Python 3"
    },
    "language_info": {
      "name": "python"
    }
  },
  "cells": [
    {
      "cell_type": "markdown",
      "metadata": {
        "id": "view-in-github",
        "colab_type": "text"
      },
      "source": [
        "<a href=\"https://colab.research.google.com/github/Sankarsh-Sunku/Implementation-Of-DL-in-Pytorch/blob/main/Overfitting/Training_a_model_also_implemented_DataLoader.ipynb\" target=\"_parent\"><img src=\"https://colab.research.google.com/assets/colab-badge.svg\" alt=\"Open In Colab\"/></a>"
      ]
    },
    {
      "cell_type": "code",
      "execution_count": 2,
      "metadata": {
        "id": "NDFtVxAmbeI9"
      },
      "outputs": [],
      "source": [
        "import torch\n",
        "import torch.nn as nn\n",
        "import numpy as np\n",
        "import pandas as pd\n",
        "import matplotlib.pyplot as plt\n",
        "\n",
        "from sklearn.model_selection import train_test_split\n",
        "\n",
        "from torch.utils.data import DataLoader"
      ]
    },
    {
      "cell_type": "code",
      "source": [
        "import pandas as pd\n",
        "iris = pd.read_csv('https://raw.githubusercontent.com/mwaskom/seaborn-data/master/iris.csv')\n",
        "\n",
        "data = torch.tensor( iris[iris.columns[0:4]].values ).float()\n",
        "\n",
        "labels = torch.zeros(len(data), dtype=torch.long)\n",
        "# labels[iris.species=='setosa'] = 0\n",
        "labels[iris.species=='versicolor'] = 1\n",
        "labels[iris.species=='virginica'] = 2"
      ],
      "metadata": {
        "id": "0rJdJ-CiboQ7"
      },
      "execution_count": 4,
      "outputs": []
    },
    {
      "cell_type": "code",
      "source": [
        "train_data,test_data, train_labels,test_labels = train_test_split(data, labels, train_size=.8)\n",
        "\n",
        "train_data = torch.utils.data.TensorDataset(train_data,train_labels)\n",
        "test_data = torch.utils.data.TensorDataset(test_data, test_labels)\n",
        "\n",
        "print(test_data.tensors[0].shape[0])\n",
        "train_loader = DataLoader(train_data,shuffle=True,batch_size=12)\n",
        "test_loader = DataLoader(test_data, shuffle=True, batch_size=test_data.tensors[0].shape[0])\n",
        "\n"
      ],
      "metadata": {
        "colab": {
          "base_uri": "https://localhost:8080/"
        },
        "id": "3jGwVnEYcCgs",
        "outputId": "7ac3285f-ef32-44b2-e3c3-2e2c1ac79824"
      },
      "execution_count": 6,
      "outputs": [
        {
          "output_type": "stream",
          "name": "stdout",
          "text": [
            "30\n"
          ]
        }
      ]
    },
    {
      "cell_type": "code",
      "source": [
        "test_data.tensors[0].shape"
      ],
      "metadata": {
        "colab": {
          "base_uri": "https://localhost:8080/"
        },
        "id": "e-L8yiC_cuC6",
        "outputId": "cdb61235-d32d-4b5b-87ea-d664a1a98fcd"
      },
      "execution_count": 13,
      "outputs": [
        {
          "output_type": "execute_result",
          "data": {
            "text/plain": [
              "torch.Size([30, 4])"
            ]
          },
          "metadata": {},
          "execution_count": 13
        }
      ]
    },
    {
      "cell_type": "code",
      "source": [
        "# check sizes of data batches\n",
        "for X,y in train_loader:\n",
        "  print(X.shape,y.shape)\n",
        "\n",
        "X,y"
      ],
      "metadata": {
        "colab": {
          "base_uri": "https://localhost:8080/"
        },
        "id": "iXHJs-6ac0S1",
        "outputId": "29c12e9b-8841-4285-e4b0-cbc3d4bd39d4"
      },
      "execution_count": 11,
      "outputs": [
        {
          "output_type": "stream",
          "name": "stdout",
          "text": [
            "torch.Size([12, 4]) torch.Size([12])\n",
            "torch.Size([12, 4]) torch.Size([12])\n",
            "torch.Size([12, 4]) torch.Size([12])\n",
            "torch.Size([12, 4]) torch.Size([12])\n",
            "torch.Size([12, 4]) torch.Size([12])\n",
            "torch.Size([12, 4]) torch.Size([12])\n",
            "torch.Size([12, 4]) torch.Size([12])\n",
            "torch.Size([12, 4]) torch.Size([12])\n",
            "torch.Size([12, 4]) torch.Size([12])\n",
            "torch.Size([12, 4]) torch.Size([12])\n"
          ]
        },
        {
          "output_type": "execute_result",
          "data": {
            "text/plain": [
              "(tensor([[5.7000, 2.9000, 4.2000, 1.3000],\n",
              "         [6.3000, 2.5000, 5.0000, 1.9000],\n",
              "         [4.9000, 3.1000, 1.5000, 0.1000],\n",
              "         [5.1000, 3.8000, 1.5000, 0.3000],\n",
              "         [6.4000, 2.8000, 5.6000, 2.2000],\n",
              "         [6.4000, 3.2000, 5.3000, 2.3000],\n",
              "         [7.3000, 2.9000, 6.3000, 1.8000],\n",
              "         [5.0000, 3.6000, 1.4000, 0.2000],\n",
              "         [6.7000, 3.0000, 5.0000, 1.7000],\n",
              "         [6.2000, 2.9000, 4.3000, 1.3000],\n",
              "         [6.0000, 3.4000, 4.5000, 1.6000],\n",
              "         [5.0000, 3.3000, 1.4000, 0.2000]]),\n",
              " tensor([1, 2, 0, 0, 2, 2, 2, 0, 1, 1, 1, 0]))"
            ]
          },
          "metadata": {},
          "execution_count": 11
        }
      ]
    },
    {
      "cell_type": "code",
      "source": [
        "# a function that creates the ANN model\n",
        "\n",
        "def createANewModel():\n",
        "\n",
        "  # model architecture\n",
        "  ANNiris = nn.Sequential(\n",
        "      nn.Linear(4,64),   # input layer\n",
        "      nn.ReLU(),         # activation unit\n",
        "      nn.Linear(64,64),  # hidden layer\n",
        "      nn.ReLU(),         # activation unit\n",
        "      nn.Linear(64,3),   # output units\n",
        "        )\n",
        "\n",
        "  # loss function\n",
        "  lossfun = nn.CrossEntropyLoss()\n",
        "\n",
        "  # optimizer\n",
        "  optimizer = torch.optim.SGD(ANNiris.parameters(),lr=.01)\n",
        "\n",
        "  return ANNiris,lossfun,optimizer"
      ],
      "metadata": {
        "id": "zs61zJ1Nc_Bt"
      },
      "execution_count": 14,
      "outputs": []
    },
    {
      "cell_type": "code",
      "source": [
        "# train the model\n",
        "\n",
        "# global parameter\n",
        "numepochs = 500\n",
        "\n",
        "def trainTheModel():\n",
        "\n",
        "  # initialize accuracies as empties (not storing losses here)\n",
        "  trainAcc = []\n",
        "  testAcc  = []\n",
        "\n",
        "  # loop over epochs\n",
        "  for epochi in range(numepochs):\n",
        "\n",
        "\n",
        "    # loop over training data batches\n",
        "    batchAcc = []\n",
        "    for X,y in train_loader:\n",
        "\n",
        "      # forward pass and loss\n",
        "      yHat = ANNiris(X)\n",
        "      loss = lossfun(yHat,y)\n",
        "\n",
        "      # backprop\n",
        "      optimizer.zero_grad()\n",
        "      loss.backward()\n",
        "      optimizer.step()\n",
        "\n",
        "      # compute training accuracy just for this batch\n",
        "      batchAcc.append( 100*torch.mean((torch.argmax(yHat,axis=1) == y).float()).item() )\n",
        "    # end of batch loop...\n",
        "\n",
        "\n",
        "    # now that we've trained through the batches, get their average training accuracy\n",
        "    trainAcc.append( np.mean(batchAcc) )\n",
        "\n",
        "    # test accuracy\n",
        "    X,y = next(iter(test_loader)) # extract X,y from test dataloader\n",
        "    predlabels = torch.argmax( ANNiris(X),axis=1 )\n",
        "    testAcc.append( 100*torch.mean((predlabels == y).float()).item() )\n",
        "\n",
        "  # function output\n",
        "  return trainAcc,testAcc\n"
      ],
      "metadata": {
        "id": "b_o2LBCCdK_j"
      },
      "execution_count": 15,
      "outputs": []
    },
    {
      "cell_type": "code",
      "source": [
        "# create a model\n",
        "ANNiris,lossfun,optimizer = createANewModel()\n",
        "\n",
        "# train the model\n",
        "trainAcc,testAcc = trainTheModel()\n"
      ],
      "metadata": {
        "id": "Jmr9OnPCdpRB"
      },
      "execution_count": 16,
      "outputs": []
    },
    {
      "cell_type": "code",
      "source": [
        "# plot the results\n",
        "fig = plt.figure(figsize=(10,5))\n",
        "\n",
        "plt.plot(trainAcc,'ro-')\n",
        "plt.plot(testAcc,'bs-')\n",
        "plt.xlabel('Epochs')\n",
        "plt.ylabel('Accuracy (%)')\n",
        "plt.legend(['Train','Test'])\n",
        "\n",
        "# optional zoom-in to final epochs\n",
        "# plt.xlim([300,500])\n",
        "# plt.ylim([90,100.5])\n",
        "\n",
        "plt.show()"
      ],
      "metadata": {
        "colab": {
          "base_uri": "https://localhost:8080/",
          "height": 465
        },
        "id": "5SHC3Pjndq9j",
        "outputId": "c22f4f91-bd85-4f41-8276-5e337f2b42d5"
      },
      "execution_count": 17,
      "outputs": [
        {
          "output_type": "display_data",
          "data": {
            "text/plain": [
              "<Figure size 1000x500 with 1 Axes>"
            ],
            "image/png": "[encoded data removed]"
          },
          "metadata": {}
        }
      ]
    },
    {
      "cell_type": "code",
      "source": [],
      "metadata": {
        "id": "IErOGzG_dsMX"
      },
      "execution_count": null,
      "outputs": []
    }
  ]
}