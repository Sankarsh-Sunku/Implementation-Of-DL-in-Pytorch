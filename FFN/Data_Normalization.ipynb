{
  "nbformat": 4,
  "nbformat_minor": 0,
  "metadata": {
    "colab": {
      "provenance": [],
      "authorship_tag": "ABX9TyNMPaEzhGDRiD3HmANv/wc6",
      "include_colab_link": true
    },
    "kernelspec": {
      "name": "python3",
      "display_name": "Python 3"
    },
    "language_info": {
      "name": "python"
    }
  },
  "cells": [
    {
      "cell_type": "markdown",
      "metadata": {
        "id": "view-in-github",
        "colab_type": "text"
      },
      "source": [
        "<a href=\"https://colab.research.google.com/github/Sankarsh-Sunku/Implementation-Of-DL-in-Pytorch/blob/main/FFN/Data_Normalization.ipynb\" target=\"_parent\"><img src=\"https://colab.research.google.com/assets/colab-badge.svg\" alt=\"Open In Colab\"/></a>"
      ]
    },
    {
      "cell_type": "code",
      "execution_count": 1,
      "metadata": {
        "id": "8-cfp3x5xrg8"
      },
      "outputs": [],
      "source": [
        "# import libraries\n",
        "import numpy as np\n",
        "\n",
        "import torch\n",
        "import torch.nn as nn\n",
        "import torch.nn.functional as F\n",
        "from torch.utils.data import DataLoader,TensorDataset\n",
        "from sklearn.model_selection import train_test_split\n",
        "\n",
        "import matplotlib.pyplot as plt\n",
        "import matplotlib_inline.backend_inline\n",
        "matplotlib_inline.backend_inline.set_matplotlib_formats('svg')"
      ]
    },
    {
      "cell_type": "code",
      "source": [
        "# import dataset (comes with colab!)\n",
        "data = np.loadtxt(open('sample_data/mnist_train_small.csv','rb'),delimiter=',')\n",
        "\n",
        "# extract labels (number IDs) and remove from data\n",
        "labels = data[:,0]\n",
        "data   = data[:,1:]"
      ],
      "metadata": {
        "id": "KONUtKfey3Ib"
      },
      "execution_count": 2,
      "outputs": []
    },
    {
      "cell_type": "code",
      "source": [
        "# Step 1: convert to tensor\n",
        "dataT   = torch.tensor( data ).float()\n",
        "labelsT = torch.tensor( labels ).long()\n",
        "\n",
        "# Step 2: use scikitlearn to split the data\n",
        "train_data,test_data, train_labels,test_labels = train_test_split(dataT, labelsT, test_size=.1)\n",
        "\n",
        "\n",
        "# REMINDER:\n",
        "# 0) normalize train to [0 1] and test to [0 1]\n",
        "# 1) normalize train to [0 1] and test to [0 255]\n",
        "# 2) normalize train to [0 255] and test to [0 1]\n",
        "train_data = train_data/torch.max(train_data)\n",
        "test_data  = test_data/torch.max(test_data)\n",
        "\n",
        "\n",
        "# Step 3: convert into PyTorch Datasets\n",
        "train_data = TensorDataset(train_data,train_labels)\n",
        "test_data  = TensorDataset(test_data,test_labels)\n",
        "\n",
        "# Step 4: translate into dataloader objects\n",
        "batchsize    = 32\n",
        "train_loader = DataLoader(train_data,batch_size=batchsize,shuffle=True,drop_last=True)\n",
        "test_loader  = DataLoader(test_data,batch_size=test_data.tensors[0].shape[0])"
      ],
      "metadata": {
        "id": "28VSgG1Ay4N7"
      },
      "execution_count": 4,
      "outputs": []
    },
    {
      "cell_type": "code",
      "source": [
        "# Confirm ranges of train and test data\n",
        "\n",
        "print('Training data range %g to %g'\n",
        "      %(torch.min(train_loader.dataset.tensors[0]),torch.max(train_loader.dataset.tensors[0])) )\n",
        "\n",
        "print('Test data range %g to %g'\n",
        "      %(torch.min(test_loader.dataset.tensors[0]),torch.max(test_loader.dataset.tensors[0])) )"
      ],
      "metadata": {
        "colab": {
          "base_uri": "https://localhost:8080/"
        },
        "id": "-NQ9FnYRy5dR",
        "outputId": "c6884061-1dc4-43e9-ff3d-b3914b72f235"
      },
      "execution_count": 5,
      "outputs": [
        {
          "output_type": "stream",
          "name": "stdout",
          "text": [
            "Training data range 0 to 1\n",
            "Test data range 0 to 1\n"
          ]
        }
      ]
    },
    {
      "cell_type": "code",
      "source": [
        "# create a class for the model\n",
        "def createTheMNISTNet():\n",
        "\n",
        "  class mnistNet(nn.Module):\n",
        "    def __init__(self):\n",
        "      super().__init__()\n",
        "\n",
        "      ### input layer\n",
        "      self.input = nn.Linear(784,64)\n",
        "\n",
        "      ### hidden layer\n",
        "      self.fc1 = nn.Linear(64,32)\n",
        "      self.fc2 = nn.Linear(32,32)\n",
        "\n",
        "      ### output layer\n",
        "      self.output = nn.Linear(32,10)\n",
        "\n",
        "    # forward pass\n",
        "    def forward(self,x):\n",
        "      x = F.relu( self.input(x) )\n",
        "      x = F.relu( self.fc1(x) )\n",
        "      x = F.relu( self.fc2(x) )\n",
        "      return self.output(x)\n",
        "\n",
        "  # create the model instance\n",
        "  net = mnistNet()\n",
        "\n",
        "  # loss function\n",
        "  lossfun = nn.CrossEntropyLoss()\n",
        "\n",
        "  # optimizer\n",
        "  optimizer = torch.optim.SGD(net.parameters(),lr=.01)\n",
        "\n",
        "  return net,lossfun,optimizer"
      ],
      "metadata": {
        "id": "W_0KwPNfzjgj"
      },
      "execution_count": 6,
      "outputs": []
    },
    {
      "cell_type": "code",
      "source": [
        "# a function that trains the model\n",
        "\n",
        "def function2trainTheModel():\n",
        "\n",
        "  # number of epochs\n",
        "  numepochs = 60\n",
        "\n",
        "  # create a new model\n",
        "  net,lossfun,optimizer = createTheMNISTNet()\n",
        "\n",
        "  # initialize losses\n",
        "  losses    = torch.zeros((numepochs,2))\n",
        "  trainAcc  = []\n",
        "  testAcc   = []\n",
        "\n",
        "\n",
        "  # loop over epochs\n",
        "  for epochi in range(numepochs):\n",
        "\n",
        "    # loop over training data batches\n",
        "    batchAcc  = []\n",
        "    batchLoss = []\n",
        "    for X,y in train_loader:\n",
        "\n",
        "      # forward pass and loss\n",
        "      yHat = net(X)\n",
        "      loss = lossfun(yHat,y)\n",
        "\n",
        "      # backprop\n",
        "      optimizer.zero_grad()\n",
        "      loss.backward()\n",
        "      optimizer.step()\n",
        "\n",
        "      # loss from this batch\n",
        "      batchLoss.append(loss.item())\n",
        "\n",
        "      # compute accuracy\n",
        "      matches = torch.argmax(yHat,axis=1) == y     # booleans (false/true)\n",
        "      matchesNumeric = matches.float()             # convert to numbers (0/1)\n",
        "      accuracyPct = 100*torch.mean(matchesNumeric) # average and x100\n",
        "      batchAcc.append( accuracyPct )               # add to list of accuracies\n",
        "    # end of batch loop...\n",
        "\n",
        "    # now that we've trained through the batches, get their average training accuracy\n",
        "    trainAcc.append( np.mean(batchAcc) )\n",
        "\n",
        "    # and get average losses across the batches\n",
        "    losses[epochi,0] = np.mean(batchLoss)\n",
        "\n",
        "    # test accuracy\n",
        "    X,y = next(iter(test_loader)) # extract X,y from test dataloader\n",
        "    with torch.no_grad(): # deactivates autograd\n",
        "      yHat = net(X)\n",
        "\n",
        "    # compare the following really long line of code to the training accuracy lines\n",
        "    testAcc.append( 100*torch.mean((torch.argmax(yHat,axis=1)==y).float()) )\n",
        "    loss = lossfun(yHat,y)\n",
        "    losses[epochi,1] = loss.item()\n",
        "\n",
        "  # end epochs\n",
        "\n",
        "  # function output\n",
        "  return trainAcc,testAcc,losses,net\n"
      ],
      "metadata": {
        "id": "Gn7ahleHzkY3"
      },
      "execution_count": 7,
      "outputs": []
    },
    {
      "cell_type": "code",
      "source": [
        "trainAcc,testAcc,losses,net = function2trainTheModel()\n"
      ],
      "metadata": {
        "id": "iswU_ABzzltS"
      },
      "execution_count": 8,
      "outputs": []
    },
    {
      "cell_type": "code",
      "source": [
        "fig,ax = plt.subplots(1,2,figsize=(16,5))\n",
        "\n",
        "ax[0].plot(losses)\n",
        "ax[0].set_xlabel('Epochs')\n",
        "ax[0].set_ylabel('Loss')\n",
        "ax[0].legend(['Train','Test'])\n",
        "ax[0].set_title('Model loss')\n",
        "\n",
        "ax[1].plot(trainAcc,label='Train')\n",
        "ax[1].plot(testAcc,label='Test')\n",
        "ax[1].set_xlabel('Epochs')\n",
        "ax[1].set_ylabel('Accuracy (%)')\n",
        "ax[1].set_ylim([10,100])\n",
        "ax[1].set_title(f'Final model test accuracy: {testAcc[-1]:.2f}%')\n",
        "ax[1].legend()\n",
        "\n",
        "plt.show()"
      ],
      "metadata": {
        "colab": {
          "base_uri": "https://localhost:8080/",
          "height": 470
        },
        "id": "5EuqJCQpzm1O",
        "outputId": "7020c752-5a59-4f26-cc20-960b7ae5df6b"
      },
      "execution_count": 9,
      "outputs": [
        {
          "output_type": "display_data",
          "data": {
            "text/plain": [
              "<Figure size 1600x500 with 2 Axes>"
            ],
            "image/svg+xml": "<?xml version=\"1.0\" encoding=\"utf-8\" standalone=\"no\"?>\n<!DOCTYPE svg PUBLIC \"-//W3C//DTD SVG 1.1//EN\"\n  \"http://www.w3.org/Graphics/SVG/1.1/DTD/svg11.dtd\">\n<svg xmlns:xlink=\"http://www.w3.org/1999/xlink\" width=\"943.78125pt\" height=\"337.074375pt\" viewBox=\"0 0 943.78125 337.074375\" xmlns=\"http://www.w3.org/2000/svg\" version=\"1.1\">\n <metadata>\n  <rdf:RDF xmlns:dc=\"http://purl.org/dc/elements/1.1/\" xmlns:cc=\"http://creativecommons.org/ns#\" xmlns:rdf=\"http://www.w3.org/1999/02/22-rdf-syntax-ns#\">\n   <cc:Work>\n    <dc:type rdf:resource=\"http://purl.org/dc/dcmitype/StillImage\"/>\n    <dc:date>2025-05-07T17:33:50.340810</dc:date>\n    <dc:format>image/svg+xml</dc:format>\n    <dc:creator>\n     <cc:Agent>\n      <dc:title>Matplotlib v3.10.0, https://matplotlib.org/</dc:title>\n     </cc:Agent>\n    </dc:creator>\n   </cc:Work>\n  </rdf:RDF>\n </metadata>\n <defs>\n  <style type=\"text/css\">*{stroke-linejoin: round; stroke-linecap: butt}</style>\n </defs>\n <g id=\"figure_1\">\n  <g id=\"patch_1\">\n   <path d=\"M 0 337.074375 \nL 943.78125 337.074375 \nL 943.78125 0 \nL 0 0 \nz\n\" style=\"fill: #ffffff\"/>\n  </g>\n  <g id=\"axes_1\">\n   <g id=\"patch_2\">\n    <path d=\"M 43.78125 299.518125 \nL 449.599432 299.518125 \nL 449.599432 22.318125 \nL 43.78125 22.318125 \nz\n\" style=\"fill: #ffffff\"/>\n   </g>\n   <g id=\"matplotlib.axis_1\">\n    <g id=\"xtick_1\">\n     <g id=\"line2d_1\">\n      <defs>\n       <path id=\"mb66b610d7c\" d=\"M 0 0 \nL 0 3.5 \n\" style=\"stroke: #000000; stroke-width: 0.8\"/>\n      </defs>\n      <g>\n       <use xlink:href=\"#mb66b610d7c\" x=\"62.227531\" y=\"299.518125\" style=\"stroke: #000000; stroke-width: 0.8\"/>\n      </g>\n     </g>\n     <g id=\"text_1\">\n      <!-- 0 -->\n      <g transform=\"translate(59.046281 314.116563) scale(0.1 -0.1)\">\n       <defs>\n        <path id=\"DejaVuSans-30\" d=\"M 2034 4250 \nQ 1547 4250 1301 3770 \nQ 1056 3291 1056 2328 \nQ 1056 1369 1301 889 \nQ 1547 409 2034 409 \nQ 2525 409 2770 889 \nQ 3016 1369 3016 2328 \nQ 3016 3291 2770 3770 \nQ 2525 4250 2034 4250 \nz\nM 2034 4750 \nQ 2819 4750 3233 4129 \nQ 3647 3509 3647 2328 \nQ 3647 1150 3233 529 \nQ 2819 -91 2034 -91 \nQ 1250 -91 836 529 \nQ 422 1150 422 2328 \nQ 422 3509 836 4129 \nQ 1250 4750 2034 4750 \nz\n\" transform=\"scale(0.015625)\"/>\n       </defs>\n       <use xlink:href=\"#DejaVuSans-30\"/>\n      </g>\n     </g>\n    </g>\n    <g id=\"xtick_2\">\n     <g id=\"line2d_2\">\n      <g>\n       <use xlink:href=\"#mb66b610d7c\" x=\"124.757297\" y=\"299.518125\" style=\"stroke: #000000; stroke-width: 0.8\"/>\n      </g>\n     </g>\n     <g id=\"text_2\">\n      <!-- 10 -->\n      <g transform=\"translate(118.394797 314.116563) scale(0.1 -0.1)\">\n       <defs>\n        <path id=\"DejaVuSans-31\" d=\"M 794 531 \nL 1825 531 \nL 1825 4091 \nL 703 3866 \nL 703 4441 \nL 1819 4666 \nL 2450 4666 \nL 2450 531 \nL 3481 531 \nL 3481 0 \nL 794 0 \nL 794 531 \nz\n\" transform=\"scale(0.015625)\"/>\n       </defs>\n       <use xlink:href=\"#DejaVuSans-31\"/>\n       <use xlink:href=\"#DejaVuSans-30\" transform=\"translate(63.623047 0)\"/>\n      </g>\n     </g>\n    </g>\n    <g id=\"xtick_3\">\n     <g id=\"line2d_3\">\n      <g>\n       <use xlink:href=\"#mb66b610d7c\" x=\"187.287063\" y=\"299.518125\" style=\"stroke: #000000; stroke-width: 0.8\"/>\n      </g>\n     </g>\n     <g id=\"text_3\">\n      <!-- 20 -->\n      <g transform=\"translate(180.924563 314.116563) scale(0.1 -0.1)\">\n       <defs>\n        <path id=\"DejaVuSans-32\" d=\"M 1228 531 \nL 3431 531 \nL 3431 0 \nL 469 0 \nL 469 531 \nQ 828 903 1448 1529 \nQ 2069 2156 2228 2338 \nQ 2531 2678 2651 2914 \nQ 2772 3150 2772 3378 \nQ 2772 3750 2511 3984 \nQ 2250 4219 1831 4219 \nQ 1534 4219 1204 4116 \nQ 875 4013 500 3803 \nL 500 4441 \nQ 881 4594 1212 4672 \nQ 1544 4750 1819 4750 \nQ 2544 4750 2975 4387 \nQ 3406 4025 3406 3419 \nQ 3406 3131 3298 2873 \nQ 3191 2616 2906 2266 \nQ 2828 2175 2409 1742 \nQ 1991 1309 1228 531 \nz\n\" transform=\"scale(0.015625)\"/>\n       </defs>\n       <use xlink:href=\"#DejaVuSans-32\"/>\n       <use xlink:href=\"#DejaVuSans-30\" transform=\"translate(63.623047 0)\"/>\n      </g>\n     </g>\n    </g>\n    <g id=\"xtick_4\">\n     <g id=\"line2d_4\">\n      <g>\n       <use xlink:href=\"#mb66b610d7c\" x=\"249.816829\" y=\"299.518125\" style=\"stroke: #000000; stroke-width: 0.8\"/>\n      </g>\n     </g>\n     <g id=\"text_4\">\n      <!-- 30 -->\n      <g transform=\"translate(243.454329 314.116563) scale(0.1 -0.1)\">\n       <defs>\n        <path id=\"DejaVuSans-33\" d=\"M 2597 2516 \nQ 3050 2419 3304 2112 \nQ 3559 1806 3559 1356 \nQ 3559 666 3084 287 \nQ 2609 -91 1734 -91 \nQ 1441 -91 1130 -33 \nQ 819 25 488 141 \nL 488 750 \nQ 750 597 1062 519 \nQ 1375 441 1716 441 \nQ 2309 441 2620 675 \nQ 2931 909 2931 1356 \nQ 2931 1769 2642 2001 \nQ 2353 2234 1838 2234 \nL 1294 2234 \nL 1294 2753 \nL 1863 2753 \nQ 2328 2753 2575 2939 \nQ 2822 3125 2822 3475 \nQ 2822 3834 2567 4026 \nQ 2313 4219 1838 4219 \nQ 1578 4219 1281 4162 \nQ 984 4106 628 3988 \nL 628 4550 \nQ 988 4650 1302 4700 \nQ 1616 4750 1894 4750 \nQ 2613 4750 3031 4423 \nQ 3450 4097 3450 3541 \nQ 3450 3153 3228 2886 \nQ 3006 2619 2597 2516 \nz\n\" transform=\"scale(0.015625)\"/>\n       </defs>\n       <use xlink:href=\"#DejaVuSans-33\"/>\n       <use xlink:href=\"#DejaVuSans-30\" transform=\"translate(63.623047 0)\"/>\n      </g>\n     </g>\n    </g>\n    <g id=\"xtick_5\">\n     <g id=\"line2d_5\">\n      <g>\n       <use xlink:href=\"#mb66b610d7c\" x=\"312.346595\" y=\"299.518125\" style=\"stroke: #000000; stroke-width: 0.8\"/>\n      </g>\n     </g>\n     <g id=\"text_5\">\n      <!-- 40 -->\n      <g transform=\"translate(305.984095 314.116563) scale(0.1 -0.1)\">\n       <defs>\n        <path id=\"DejaVuSans-34\" d=\"M 2419 4116 \nL 825 1625 \nL 2419 1625 \nL 2419 4116 \nz\nM 2253 4666 \nL 3047 4666 \nL 3047 1625 \nL 3713 1625 \nL 3713 1100 \nL 3047 1100 \nL 3047 0 \nL 2419 0 \nL 2419 1100 \nL 313 1100 \nL 313 1709 \nL 2253 4666 \nz\n\" transform=\"scale(0.015625)\"/>\n       </defs>\n       <use xlink:href=\"#DejaVuSans-34\"/>\n       <use xlink:href=\"#DejaVuSans-30\" transform=\"translate(63.623047 0)\"/>\n      </g>\n     </g>\n    </g>\n    <g id=\"xtick_6\">\n     <g id=\"line2d_6\">\n      <g>\n       <use xlink:href=\"#mb66b610d7c\" x=\"374.876361\" y=\"299.518125\" style=\"stroke: #000000; stroke-width: 0.8\"/>\n      </g>\n     </g>\n     <g id=\"text_6\">\n      <!-- 50 -->\n      <g transform=\"translate(368.513861 314.116563) scale(0.1 -0.1)\">\n       <defs>\n        <path id=\"DejaVuSans-35\" d=\"M 691 4666 \nL 3169 4666 \nL 3169 4134 \nL 1269 4134 \nL 1269 2991 \nQ 1406 3038 1543 3061 \nQ 1681 3084 1819 3084 \nQ 2600 3084 3056 2656 \nQ 3513 2228 3513 1497 \nQ 3513 744 3044 326 \nQ 2575 -91 1722 -91 \nQ 1428 -91 1123 -41 \nQ 819 9 494 109 \nL 494 744 \nQ 775 591 1075 516 \nQ 1375 441 1709 441 \nQ 2250 441 2565 725 \nQ 2881 1009 2881 1497 \nQ 2881 1984 2565 2268 \nQ 2250 2553 1709 2553 \nQ 1456 2553 1204 2497 \nQ 953 2441 691 2322 \nL 691 4666 \nz\n\" transform=\"scale(0.015625)\"/>\n       </defs>\n       <use xlink:href=\"#DejaVuSans-35\"/>\n       <use xlink:href=\"#DejaVuSans-30\" transform=\"translate(63.623047 0)\"/>\n      </g>\n     </g>\n    </g>\n    <g id=\"xtick_7\">\n     <g id=\"line2d_7\">\n      <g>\n       <use xlink:href=\"#mb66b610d7c\" x=\"437.406127\" y=\"299.518125\" style=\"stroke: #000000; stroke-width: 0.8\"/>\n      </g>\n     </g>\n     <g id=\"text_7\">\n      <!-- 60 -->\n      <g transform=\"translate(431.043627 314.116563) scale(0.1 -0.1)\">\n       <defs>\n        <path id=\"DejaVuSans-36\" d=\"M 2113 2584 \nQ 1688 2584 1439 2293 \nQ 1191 2003 1191 1497 \nQ 1191 994 1439 701 \nQ 1688 409 2113 409 \nQ 2538 409 2786 701 \nQ 3034 994 3034 1497 \nQ 3034 2003 2786 2293 \nQ 2538 2584 2113 2584 \nz\nM 3366 4563 \nL 3366 3988 \nQ 3128 4100 2886 4159 \nQ 2644 4219 2406 4219 \nQ 1781 4219 1451 3797 \nQ 1122 3375 1075 2522 \nQ 1259 2794 1537 2939 \nQ 1816 3084 2150 3084 \nQ 2853 3084 3261 2657 \nQ 3669 2231 3669 1497 \nQ 3669 778 3244 343 \nQ 2819 -91 2113 -91 \nQ 1303 -91 875 529 \nQ 447 1150 447 2328 \nQ 447 3434 972 4092 \nQ 1497 4750 2381 4750 \nQ 2619 4750 2861 4703 \nQ 3103 4656 3366 4563 \nz\n\" transform=\"scale(0.015625)\"/>\n       </defs>\n       <use xlink:href=\"#DejaVuSans-36\"/>\n       <use xlink:href=\"#DejaVuSans-30\" transform=\"translate(63.623047 0)\"/>\n      </g>\n     </g>\n    </g>\n    <g id=\"text_8\">\n     <!-- Epochs -->\n     <g transform=\"translate(228.774716 327.794688) scale(0.1 -0.1)\">\n      <defs>\n       <path id=\"DejaVuSans-45\" d=\"M 628 4666 \nL 3578 4666 \nL 3578 4134 \nL 1259 4134 \nL 1259 2753 \nL 3481 2753 \nL 3481 2222 \nL 1259 2222 \nL 1259 531 \nL 3634 531 \nL 3634 0 \nL 628 0 \nL 628 4666 \nz\n\" transform=\"scale(0.015625)\"/>\n       <path id=\"DejaVuSans-70\" d=\"M 1159 525 \nL 1159 -1331 \nL 581 -1331 \nL 581 3500 \nL 1159 3500 \nL 1159 2969 \nQ 1341 3281 1617 3432 \nQ 1894 3584 2278 3584 \nQ 2916 3584 3314 3078 \nQ 3713 2572 3713 1747 \nQ 3713 922 3314 415 \nQ 2916 -91 2278 -91 \nQ 1894 -91 1617 61 \nQ 1341 213 1159 525 \nz\nM 3116 1747 \nQ 3116 2381 2855 2742 \nQ 2594 3103 2138 3103 \nQ 1681 3103 1420 2742 \nQ 1159 2381 1159 1747 \nQ 1159 1113 1420 752 \nQ 1681 391 2138 391 \nQ 2594 391 2855 752 \nQ 3116 1113 3116 1747 \nz\n\" transform=\"scale(0.015625)\"/>\n       <path id=\"DejaVuSans-6f\" d=\"M 1959 3097 \nQ 1497 3097 1228 2736 \nQ 959 2375 959 1747 \nQ 959 1119 1226 758 \nQ 1494 397 1959 397 \nQ 2419 397 2687 759 \nQ 2956 1122 2956 1747 \nQ 2956 2369 2687 2733 \nQ 2419 3097 1959 3097 \nz\nM 1959 3584 \nQ 2709 3584 3137 3096 \nQ 3566 2609 3566 1747 \nQ 3566 888 3137 398 \nQ 2709 -91 1959 -91 \nQ 1206 -91 779 398 \nQ 353 888 353 1747 \nQ 353 2609 779 3096 \nQ 1206 3584 1959 3584 \nz\n\" transform=\"scale(0.015625)\"/>\n       <path id=\"DejaVuSans-63\" d=\"M 3122 3366 \nL 3122 2828 \nQ 2878 2963 2633 3030 \nQ 2388 3097 2138 3097 \nQ 1578 3097 1268 2742 \nQ 959 2388 959 1747 \nQ 959 1106 1268 751 \nQ 1578 397 2138 397 \nQ 2388 397 2633 464 \nQ 2878 531 3122 666 \nL 3122 134 \nQ 2881 22 2623 -34 \nQ 2366 -91 2075 -91 \nQ 1284 -91 818 406 \nQ 353 903 353 1747 \nQ 353 2603 823 3093 \nQ 1294 3584 2113 3584 \nQ 2378 3584 2631 3529 \nQ 2884 3475 3122 3366 \nz\n\" transform=\"scale(0.015625)\"/>\n       <path id=\"DejaVuSans-68\" d=\"M 3513 2113 \nL 3513 0 \nL 2938 0 \nL 2938 2094 \nQ 2938 2591 2744 2837 \nQ 2550 3084 2163 3084 \nQ 1697 3084 1428 2787 \nQ 1159 2491 1159 1978 \nL 1159 0 \nL 581 0 \nL 581 4863 \nL 1159 4863 \nL 1159 2956 \nQ 1366 3272 1645 3428 \nQ 1925 3584 2291 3584 \nQ 2894 3584 3203 3211 \nQ 3513 2838 3513 2113 \nz\n\" transform=\"scale(0.015625)\"/>\n       <path id=\"DejaVuSans-73\" d=\"M 2834 3397 \nL 2834 2853 \nQ 2591 2978 2328 3040 \nQ 2066 3103 1784 3103 \nQ 1356 3103 1142 2972 \nQ 928 2841 928 2578 \nQ 928 2378 1081 2264 \nQ 1234 2150 1697 2047 \nL 1894 2003 \nQ 2506 1872 2764 1633 \nQ 3022 1394 3022 966 \nQ 3022 478 2636 193 \nQ 2250 -91 1575 -91 \nQ 1294 -91 989 -36 \nQ 684 19 347 128 \nL 347 722 \nQ 666 556 975 473 \nQ 1284 391 1588 391 \nQ 1994 391 2212 530 \nQ 2431 669 2431 922 \nQ 2431 1156 2273 1281 \nQ 2116 1406 1581 1522 \nL 1381 1569 \nQ 847 1681 609 1914 \nQ 372 2147 372 2553 \nQ 372 3047 722 3315 \nQ 1072 3584 1716 3584 \nQ 2034 3584 2315 3537 \nQ 2597 3491 2834 3397 \nz\n\" transform=\"scale(0.015625)\"/>\n      </defs>\n      <use xlink:href=\"#DejaVuSans-45\"/>\n      <use xlink:href=\"#DejaVuSans-70\" transform=\"translate(63.183594 0)\"/>\n      <use xlink:href=\"#DejaVuSans-6f\" transform=\"translate(126.660156 0)\"/>\n      <use xlink:href=\"#DejaVuSans-63\" transform=\"translate(187.841797 0)\"/>\n      <use xlink:href=\"#DejaVuSans-68\" transform=\"translate(242.822266 0)\"/>\n      <use xlink:href=\"#DejaVuSans-73\" transform=\"translate(306.201172 0)\"/>\n     </g>\n    </g>\n   </g>\n   <g id=\"matplotlib.axis_2\">\n    <g id=\"ytick_1\">\n     <g id=\"line2d_8\">\n      <defs>\n       <path id=\"mae6bc40bb4\" d=\"M 0 0 \nL -3.5 0 \n\" style=\"stroke: #000000; stroke-width: 0.8\"/>\n      </defs>\n      <g>\n       <use xlink:href=\"#mae6bc40bb4\" x=\"43.78125\" y=\"289.557097\" style=\"stroke: #000000; stroke-width: 0.8\"/>\n      </g>\n     </g>\n     <g id=\"text_9\">\n      <!-- 0.0 -->\n      <g transform=\"translate(20.878125 293.356316) scale(0.1 -0.1)\">\n       <defs>\n        <path id=\"DejaVuSans-2e\" d=\"M 684 794 \nL 1344 794 \nL 1344 0 \nL 684 0 \nL 684 794 \nz\n\" transform=\"scale(0.015625)\"/>\n       </defs>\n       <use xlink:href=\"#DejaVuSans-30\"/>\n       <use xlink:href=\"#DejaVuSans-2e\" transform=\"translate(63.623047 0)\"/>\n       <use xlink:href=\"#DejaVuSans-30\" transform=\"translate(95.410156 0)\"/>\n      </g>\n     </g>\n    </g>\n    <g id=\"ytick_2\">\n     <g id=\"line2d_9\">\n      <g>\n       <use xlink:href=\"#mae6bc40bb4\" x=\"43.78125\" y=\"233.85562\" style=\"stroke: #000000; stroke-width: 0.8\"/>\n      </g>\n     </g>\n     <g id=\"text_10\">\n      <!-- 0.5 -->\n      <g transform=\"translate(20.878125 237.654839) scale(0.1 -0.1)\">\n       <use xlink:href=\"#DejaVuSans-30\"/>\n       <use xlink:href=\"#DejaVuSans-2e\" transform=\"translate(63.623047 0)\"/>\n       <use xlink:href=\"#DejaVuSans-35\" transform=\"translate(95.410156 0)\"/>\n      </g>\n     </g>\n    </g>\n    <g id=\"ytick_3\">\n     <g id=\"line2d_10\">\n      <g>\n       <use xlink:href=\"#mae6bc40bb4\" x=\"43.78125\" y=\"178.154144\" style=\"stroke: #000000; stroke-width: 0.8\"/>\n      </g>\n     </g>\n     <g id=\"text_11\">\n      <!-- 1.0 -->\n      <g transform=\"translate(20.878125 181.953362) scale(0.1 -0.1)\">\n       <use xlink:href=\"#DejaVuSans-31\"/>\n       <use xlink:href=\"#DejaVuSans-2e\" transform=\"translate(63.623047 0)\"/>\n       <use xlink:href=\"#DejaVuSans-30\" transform=\"translate(95.410156 0)\"/>\n      </g>\n     </g>\n    </g>\n    <g id=\"ytick_4\">\n     <g id=\"line2d_11\">\n      <g>\n       <use xlink:href=\"#mae6bc40bb4\" x=\"43.78125\" y=\"122.452667\" style=\"stroke: #000000; stroke-width: 0.8\"/>\n      </g>\n     </g>\n     <g id=\"text_12\">\n      <!-- 1.5 -->\n      <g transform=\"translate(20.878125 126.251886) scale(0.1 -0.1)\">\n       <use xlink:href=\"#DejaVuSans-31\"/>\n       <use xlink:href=\"#DejaVuSans-2e\" transform=\"translate(63.623047 0)\"/>\n       <use xlink:href=\"#DejaVuSans-35\" transform=\"translate(95.410156 0)\"/>\n      </g>\n     </g>\n    </g>\n    <g id=\"ytick_5\">\n     <g id=\"line2d_12\">\n      <g>\n       <use xlink:href=\"#mae6bc40bb4\" x=\"43.78125\" y=\"66.75119\" style=\"stroke: #000000; stroke-width: 0.8\"/>\n      </g>\n     </g>\n     <g id=\"text_13\">\n      <!-- 2.0 -->\n      <g transform=\"translate(20.878125 70.550409) scale(0.1 -0.1)\">\n       <use xlink:href=\"#DejaVuSans-32\"/>\n       <use xlink:href=\"#DejaVuSans-2e\" transform=\"translate(63.623047 0)\"/>\n       <use xlink:href=\"#DejaVuSans-30\" transform=\"translate(95.410156 0)\"/>\n      </g>\n     </g>\n    </g>\n    <g id=\"text_14\">\n     <!-- Loss -->\n     <g transform=\"translate(14.798438 171.885313) rotate(-90) scale(0.1 -0.1)\">\n      <defs>\n       <path id=\"DejaVuSans-4c\" d=\"M 628 4666 \nL 1259 4666 \nL 1259 531 \nL 3531 531 \nL 3531 0 \nL 628 0 \nL 628 4666 \nz\n\" transform=\"scale(0.015625)\"/>\n      </defs>\n      <use xlink:href=\"#DejaVuSans-4c\"/>\n      <use xlink:href=\"#DejaVuSans-6f\" transform=\"translate(53.962891 0)\"/>\n      <use xlink:href=\"#DejaVuSans-73\" transform=\"translate(115.144531 0)\"/>\n      <use xlink:href=\"#DejaVuSans-73\" transform=\"translate(167.244141 0)\"/>\n     </g>\n    </g>\n   </g>\n   <g id=\"line2d_13\">\n    <path d=\"M 62.227531 34.918125 \nL 68.480508 64.92534 \nL 74.733484 154.698098 \nL 80.986461 211.591253 \nL 87.239437 226.787836 \nL 93.492414 236.124195 \nL 99.745391 242.599003 \nL 105.998367 246.828452 \nL 112.251344 250.267746 \nL 118.50432 253.190255 \nL 124.757297 255.573734 \nL 131.010274 257.944514 \nL 137.26325 259.77398 \nL 143.516227 261.504439 \nL 149.769203 263.243415 \nL 156.02218 264.747913 \nL 162.275157 266.12399 \nL 168.528133 267.515547 \nL 174.78111 268.80573 \nL 181.034087 269.847529 \nL 187.287063 270.99712 \nL 193.54004 271.98357 \nL 199.793016 272.994265 \nL 206.045993 273.688655 \nL 212.29897 274.599424 \nL 218.551946 275.408656 \nL 224.804923 275.984758 \nL 231.057899 276.824833 \nL 237.310876 277.329503 \nL 243.563853 277.852945 \nL 249.816829 278.423958 \nL 256.069806 278.884253 \nL 262.322782 279.380749 \nL 268.575759 279.95542 \nL 274.828736 280.311539 \nL 281.081712 280.847956 \nL 287.334689 281.131723 \nL 293.587665 281.586031 \nL 299.840642 281.903461 \nL 306.093619 282.337866 \nL 312.346595 282.600166 \nL 318.599572 283.026316 \nL 324.852549 283.268931 \nL 331.105525 283.635074 \nL 337.358502 283.844877 \nL 343.611478 284.183129 \nL 349.864455 284.394099 \nL 356.117432 284.671822 \nL 362.370408 284.911373 \nL 368.623385 285.211858 \nL 374.876361 285.361156 \nL 381.129338 285.597961 \nL 387.382315 285.758805 \nL 393.635291 286.026198 \nL 399.888268 286.123027 \nL 406.141244 286.229371 \nL 412.394221 286.479761 \nL 418.647198 286.598322 \nL 424.900174 286.766177 \nL 431.153151 286.918125 \n\" clip-path=\"url(#p91f0f67024)\" style=\"fill: none; stroke: #1f77b4; stroke-width: 1.5; stroke-linecap: square\"/>\n   </g>\n   <g id=\"line2d_14\">\n    <path d=\"M 62.227531 39.374504 \nL 68.480508 105.060285 \nL 74.733484 192.550398 \nL 80.986461 217.62309 \nL 87.239437 228.08727 \nL 93.492414 237.007014 \nL 99.745391 240.033302 \nL 105.998367 245.865859 \nL 112.251344 249.539366 \nL 118.50432 251.337541 \nL 124.757297 254.162785 \nL 131.010274 254.865517 \nL 137.26325 257.102083 \nL 143.516227 258.9457 \nL 149.769203 259.748223 \nL 156.02218 261.846518 \nL 162.275157 262.843792 \nL 168.528133 264.285964 \nL 174.78111 264.577879 \nL 181.034087 265.908861 \nL 187.287063 265.641388 \nL 193.54004 266.943012 \nL 199.793016 266.989728 \nL 206.045993 266.668617 \nL 212.29897 266.863501 \nL 218.551946 267.587913 \nL 224.804923 268.610198 \nL 231.057899 268.791426 \nL 237.310876 268.792186 \nL 243.563853 268.195216 \nL 249.816829 270.108055 \nL 256.069806 270.717629 \nL 262.322782 270.78711 \nL 268.575759 270.545606 \nL 274.828736 270.673362 \nL 281.081712 270.463916 \nL 287.334689 270.419074 \nL 293.587665 270.629207 \nL 299.840642 270.448586 \nL 306.093619 271.186422 \nL 312.346595 271.572481 \nL 318.599572 270.200776 \nL 324.852549 270.940998 \nL 331.105525 271.361303 \nL 337.358502 270.864188 \nL 343.611478 271.193892 \nL 349.864455 271.394152 \nL 356.117432 271.197043 \nL 362.370408 270.804042 \nL 368.623385 270.327088 \nL 374.876361 270.056987 \nL 381.129338 271.088719 \nL 387.382315 270.304777 \nL 393.635291 270.34625 \nL 399.888268 269.582166 \nL 406.141244 270.309583 \nL 412.394221 269.697042 \nL 418.647198 269.674773 \nL 424.900174 270.246307 \nL 431.153151 269.647043 \n\" clip-path=\"url(#p91f0f67024)\" style=\"fill: none; stroke: #ff7f0e; stroke-width: 1.5; stroke-linecap: square\"/>\n   </g>\n   <g id=\"patch_3\">\n    <path d=\"M 43.78125 299.518125 \nL 43.78125 22.318125 \n\" style=\"fill: none; stroke: #000000; stroke-width: 0.8; stroke-linejoin: miter; stroke-linecap: square\"/>\n   </g>\n   <g id=\"patch_4\">\n    <path d=\"M 449.599432 299.518125 \nL 449.599432 22.318125 \n\" style=\"fill: none; stroke: #000000; stroke-width: 0.8; stroke-linejoin: miter; stroke-linecap: square\"/>\n   </g>\n   <g id=\"patch_5\">\n    <path d=\"M 43.78125 299.518125 \nL 449.599432 299.518125 \n\" style=\"fill: none; stroke: #000000; stroke-width: 0.8; stroke-linejoin: miter; stroke-linecap: square\"/>\n   </g>\n   <g id=\"patch_6\">\n    <path d=\"M 43.78125 22.318125 \nL 449.599432 22.318125 \n\" style=\"fill: none; stroke: #000000; stroke-width: 0.8; stroke-linejoin: miter; stroke-linecap: square\"/>\n   </g>\n   <g id=\"text_15\">\n    <!-- Model loss -->\n    <g transform=\"translate(215.178153 16.318125) scale(0.12 -0.12)\">\n     <defs>\n      <path id=\"DejaVuSans-4d\" d=\"M 628 4666 \nL 1569 4666 \nL 2759 1491 \nL 3956 4666 \nL 4897 4666 \nL 4897 0 \nL 4281 0 \nL 4281 4097 \nL 3078 897 \nL 2444 897 \nL 1241 4097 \nL 1241 0 \nL 628 0 \nL 628 4666 \nz\n\" transform=\"scale(0.015625)\"/>\n      <path id=\"DejaVuSans-64\" d=\"M 2906 2969 \nL 2906 4863 \nL 3481 4863 \nL 3481 0 \nL 2906 0 \nL 2906 525 \nQ 2725 213 2448 61 \nQ 2172 -91 1784 -91 \nQ 1150 -91 751 415 \nQ 353 922 353 1747 \nQ 353 2572 751 3078 \nQ 1150 3584 1784 3584 \nQ 2172 3584 2448 3432 \nQ 2725 3281 2906 2969 \nz\nM 947 1747 \nQ 947 1113 1208 752 \nQ 1469 391 1925 391 \nQ 2381 391 2643 752 \nQ 2906 1113 2906 1747 \nQ 2906 2381 2643 2742 \nQ 2381 3103 1925 3103 \nQ 1469 3103 1208 2742 \nQ 947 2381 947 1747 \nz\n\" transform=\"scale(0.015625)\"/>\n      <path id=\"DejaVuSans-65\" d=\"M 3597 1894 \nL 3597 1613 \nL 953 1613 \nQ 991 1019 1311 708 \nQ 1631 397 2203 397 \nQ 2534 397 2845 478 \nQ 3156 559 3463 722 \nL 3463 178 \nQ 3153 47 2828 -22 \nQ 2503 -91 2169 -91 \nQ 1331 -91 842 396 \nQ 353 884 353 1716 \nQ 353 2575 817 3079 \nQ 1281 3584 2069 3584 \nQ 2775 3584 3186 3129 \nQ 3597 2675 3597 1894 \nz\nM 3022 2063 \nQ 3016 2534 2758 2815 \nQ 2500 3097 2075 3097 \nQ 1594 3097 1305 2825 \nQ 1016 2553 972 2059 \nL 3022 2063 \nz\n\" transform=\"scale(0.015625)\"/>\n      <path id=\"DejaVuSans-6c\" d=\"M 603 4863 \nL 1178 4863 \nL 1178 0 \nL 603 0 \nL 603 4863 \nz\n\" transform=\"scale(0.015625)\"/>\n      <path id=\"DejaVuSans-20\" transform=\"scale(0.015625)\"/>\n     </defs>\n     <use xlink:href=\"#DejaVuSans-4d\"/>\n     <use xlink:href=\"#DejaVuSans-6f\" transform=\"translate(86.279297 0)\"/>\n     <use xlink:href=\"#DejaVuSans-64\" transform=\"translate(147.460938 0)\"/>\n     <use xlink:href=\"#DejaVuSans-65\" transform=\"translate(210.9375 0)\"/>\n     <use xlink:href=\"#DejaVuSans-6c\" transform=\"translate(272.460938 0)\"/>\n     <use xlink:href=\"#DejaVuSans-20\" transform=\"translate(300.244141 0)\"/>\n     <use xlink:href=\"#DejaVuSans-6c\" transform=\"translate(332.03125 0)\"/>\n     <use xlink:href=\"#DejaVuSans-6f\" transform=\"translate(359.814453 0)\"/>\n     <use xlink:href=\"#DejaVuSans-73\" transform=\"translate(420.996094 0)\"/>\n     <use xlink:href=\"#DejaVuSans-73\" transform=\"translate(473.095703 0)\"/>\n    </g>\n   </g>\n   <g id=\"legend_1\">\n    <g id=\"patch_7\">\n     <path d=\"M 386.611932 59.674375 \nL 442.599432 59.674375 \nQ 444.599432 59.674375 444.599432 57.674375 \nL 444.599432 29.318125 \nQ 444.599432 27.318125 442.599432 27.318125 \nL 386.611932 27.318125 \nQ 384.611932 27.318125 384.611932 29.318125 \nL 384.611932 57.674375 \nQ 384.611932 59.674375 386.611932 59.674375 \nz\n\" style=\"fill: #ffffff; opacity: 0.8; stroke: #cccccc; stroke-linejoin: miter\"/>\n    </g>\n    <g id=\"line2d_15\">\n     <path d=\"M 388.611932 35.416562 \nL 398.611932 35.416562 \nL 408.611932 35.416562 \n\" style=\"fill: none; stroke: #1f77b4; stroke-width: 1.5; stroke-linecap: square\"/>\n    </g>\n    <g id=\"text_16\">\n     <!-- Train -->\n     <g transform=\"translate(416.611932 38.916562) scale(0.1 -0.1)\">\n      <defs>\n       <path id=\"DejaVuSans-54\" d=\"M -19 4666 \nL 3928 4666 \nL 3928 4134 \nL 2272 4134 \nL 2272 0 \nL 1638 0 \nL 1638 4134 \nL -19 4134 \nL -19 4666 \nz\n\" transform=\"scale(0.015625)\"/>\n       <path id=\"DejaVuSans-72\" d=\"M 2631 2963 \nQ 2534 3019 2420 3045 \nQ 2306 3072 2169 3072 \nQ 1681 3072 1420 2755 \nQ 1159 2438 1159 1844 \nL 1159 0 \nL 581 0 \nL 581 3500 \nL 1159 3500 \nL 1159 2956 \nQ 1341 3275 1631 3429 \nQ 1922 3584 2338 3584 \nQ 2397 3584 2469 3576 \nQ 2541 3569 2628 3553 \nL 2631 2963 \nz\n\" transform=\"scale(0.015625)\"/>\n       <path id=\"DejaVuSans-61\" d=\"M 2194 1759 \nQ 1497 1759 1228 1600 \nQ 959 1441 959 1056 \nQ 959 750 1161 570 \nQ 1363 391 1709 391 \nQ 2188 391 2477 730 \nQ 2766 1069 2766 1631 \nL 2766 1759 \nL 2194 1759 \nz\nM 3341 1997 \nL 3341 0 \nL 2766 0 \nL 2766 531 \nQ 2569 213 2275 61 \nQ 1981 -91 1556 -91 \nQ 1019 -91 701 211 \nQ 384 513 384 1019 \nQ 384 1609 779 1909 \nQ 1175 2209 1959 2209 \nL 2766 2209 \nL 2766 2266 \nQ 2766 2663 2505 2880 \nQ 2244 3097 1772 3097 \nQ 1472 3097 1187 3025 \nQ 903 2953 641 2809 \nL 641 3341 \nQ 956 3463 1253 3523 \nQ 1550 3584 1831 3584 \nQ 2591 3584 2966 3190 \nQ 3341 2797 3341 1997 \nz\n\" transform=\"scale(0.015625)\"/>\n       <path id=\"DejaVuSans-69\" d=\"M 603 3500 \nL 1178 3500 \nL 1178 0 \nL 603 0 \nL 603 3500 \nz\nM 603 4863 \nL 1178 4863 \nL 1178 4134 \nL 603 4134 \nL 603 4863 \nz\n\" transform=\"scale(0.015625)\"/>\n       <path id=\"DejaVuSans-6e\" d=\"M 3513 2113 \nL 3513 0 \nL 2938 0 \nL 2938 2094 \nQ 2938 2591 2744 2837 \nQ 2550 3084 2163 3084 \nQ 1697 3084 1428 2787 \nQ 1159 2491 1159 1978 \nL 1159 0 \nL 581 0 \nL 581 3500 \nL 1159 3500 \nL 1159 2956 \nQ 1366 3272 1645 3428 \nQ 1925 3584 2291 3584 \nQ 2894 3584 3203 3211 \nQ 3513 2838 3513 2113 \nz\n\" transform=\"scale(0.015625)\"/>\n      </defs>\n      <use xlink:href=\"#DejaVuSans-54\"/>\n      <use xlink:href=\"#DejaVuSans-72\" transform=\"translate(46.333984 0)\"/>\n      <use xlink:href=\"#DejaVuSans-61\" transform=\"translate(87.447266 0)\"/>\n      <use xlink:href=\"#DejaVuSans-69\" transform=\"translate(148.726562 0)\"/>\n      <use xlink:href=\"#DejaVuSans-6e\" transform=\"translate(176.509766 0)\"/>\n     </g>\n    </g>\n    <g id=\"line2d_16\">\n     <path d=\"M 388.611932 50.094688 \nL 398.611932 50.094688 \nL 408.611932 50.094688 \n\" style=\"fill: none; stroke: #ff7f0e; stroke-width: 1.5; stroke-linecap: square\"/>\n    </g>\n    <g id=\"text_17\">\n     <!-- Test -->\n     <g transform=\"translate(416.611932 53.594688) scale(0.1 -0.1)\">\n      <defs>\n       <path id=\"DejaVuSans-74\" d=\"M 1172 4494 \nL 1172 3500 \nL 2356 3500 \nL 2356 3053 \nL 1172 3053 \nL 1172 1153 \nQ 1172 725 1289 603 \nQ 1406 481 1766 481 \nL 2356 481 \nL 2356 0 \nL 1766 0 \nQ 1100 0 847 248 \nQ 594 497 594 1153 \nL 594 3053 \nL 172 3053 \nL 172 3500 \nL 594 3500 \nL 594 4494 \nL 1172 4494 \nz\n\" transform=\"scale(0.015625)\"/>\n      </defs>\n      <use xlink:href=\"#DejaVuSans-54\"/>\n      <use xlink:href=\"#DejaVuSans-65\" transform=\"translate(44.083984 0)\"/>\n      <use xlink:href=\"#DejaVuSans-73\" transform=\"translate(105.607422 0)\"/>\n      <use xlink:href=\"#DejaVuSans-74\" transform=\"translate(157.707031 0)\"/>\n     </g>\n    </g>\n   </g>\n  </g>\n  <g id=\"axes_2\">\n   <g id=\"patch_8\">\n    <path d=\"M 530.763068 299.518125 \nL 936.58125 299.518125 \nL 936.58125 22.318125 \nL 530.763068 22.318125 \nz\n\" style=\"fill: #ffffff\"/>\n   </g>\n   <g id=\"matplotlib.axis_3\">\n    <g id=\"xtick_8\">\n     <g id=\"line2d_17\">\n      <g>\n       <use xlink:href=\"#mb66b610d7c\" x=\"549.209349\" y=\"299.518125\" style=\"stroke: #000000; stroke-width: 0.8\"/>\n      </g>\n     </g>\n     <g id=\"text_18\">\n      <!-- 0 -->\n      <g transform=\"translate(546.028099 314.116563) scale(0.1 -0.1)\">\n       <use xlink:href=\"#DejaVuSans-30\"/>\n      </g>\n     </g>\n    </g>\n    <g id=\"xtick_9\">\n     <g id=\"line2d_18\">\n      <g>\n       <use xlink:href=\"#mb66b610d7c\" x=\"611.739115\" y=\"299.518125\" style=\"stroke: #000000; stroke-width: 0.8\"/>\n      </g>\n     </g>\n     <g id=\"text_19\">\n      <!-- 10 -->\n      <g transform=\"translate(605.376615 314.116563) scale(0.1 -0.1)\">\n       <use xlink:href=\"#DejaVuSans-31\"/>\n       <use xlink:href=\"#DejaVuSans-30\" transform=\"translate(63.623047 0)\"/>\n      </g>\n     </g>\n    </g>\n    <g id=\"xtick_10\">\n     <g id=\"line2d_19\">\n      <g>\n       <use xlink:href=\"#mb66b610d7c\" x=\"674.268881\" y=\"299.518125\" style=\"stroke: #000000; stroke-width: 0.8\"/>\n      </g>\n     </g>\n     <g id=\"text_20\">\n      <!-- 20 -->\n      <g transform=\"translate(667.906381 314.116563) scale(0.1 -0.1)\">\n       <use xlink:href=\"#DejaVuSans-32\"/>\n       <use xlink:href=\"#DejaVuSans-30\" transform=\"translate(63.623047 0)\"/>\n      </g>\n     </g>\n    </g>\n    <g id=\"xtick_11\">\n     <g id=\"line2d_20\">\n      <g>\n       <use xlink:href=\"#mb66b610d7c\" x=\"736.798647\" y=\"299.518125\" style=\"stroke: #000000; stroke-width: 0.8\"/>\n      </g>\n     </g>\n     <g id=\"text_21\">\n      <!-- 30 -->\n      <g transform=\"translate(730.436147 314.116563) scale(0.1 -0.1)\">\n       <use xlink:href=\"#DejaVuSans-33\"/>\n       <use xlink:href=\"#DejaVuSans-30\" transform=\"translate(63.623047 0)\"/>\n      </g>\n     </g>\n    </g>\n    <g id=\"xtick_12\">\n     <g id=\"line2d_21\">\n      <g>\n       <use xlink:href=\"#mb66b610d7c\" x=\"799.328413\" y=\"299.518125\" style=\"stroke: #000000; stroke-width: 0.8\"/>\n      </g>\n     </g>\n     <g id=\"text_22\">\n      <!-- 40 -->\n      <g transform=\"translate(792.965913 314.116563) scale(0.1 -0.1)\">\n       <use xlink:href=\"#DejaVuSans-34\"/>\n       <use xlink:href=\"#DejaVuSans-30\" transform=\"translate(63.623047 0)\"/>\n      </g>\n     </g>\n    </g>\n    <g id=\"xtick_13\">\n     <g id=\"line2d_22\">\n      <g>\n       <use xlink:href=\"#mb66b610d7c\" x=\"861.85818\" y=\"299.518125\" style=\"stroke: #000000; stroke-width: 0.8\"/>\n      </g>\n     </g>\n     <g id=\"text_23\">\n      <!-- 50 -->\n      <g transform=\"translate(855.49568 314.116563) scale(0.1 -0.1)\">\n       <use xlink:href=\"#DejaVuSans-35\"/>\n       <use xlink:href=\"#DejaVuSans-30\" transform=\"translate(63.623047 0)\"/>\n      </g>\n     </g>\n    </g>\n    <g id=\"xtick_14\">\n     <g id=\"line2d_23\">\n      <g>\n       <use xlink:href=\"#mb66b610d7c\" x=\"924.387946\" y=\"299.518125\" style=\"stroke: #000000; stroke-width: 0.8\"/>\n      </g>\n     </g>\n     <g id=\"text_24\">\n      <!-- 60 -->\n      <g transform=\"translate(918.025446 314.116563) scale(0.1 -0.1)\">\n       <use xlink:href=\"#DejaVuSans-36\"/>\n       <use xlink:href=\"#DejaVuSans-30\" transform=\"translate(63.623047 0)\"/>\n      </g>\n     </g>\n    </g>\n    <g id=\"text_25\">\n     <!-- Epochs -->\n     <g transform=\"translate(715.756534 327.794688) scale(0.1 -0.1)\">\n      <use xlink:href=\"#DejaVuSans-45\"/>\n      <use xlink:href=\"#DejaVuSans-70\" transform=\"translate(63.183594 0)\"/>\n      <use xlink:href=\"#DejaVuSans-6f\" transform=\"translate(126.660156 0)\"/>\n      <use xlink:href=\"#DejaVuSans-63\" transform=\"translate(187.841797 0)\"/>\n      <use xlink:href=\"#DejaVuSans-68\" transform=\"translate(242.822266 0)\"/>\n      <use xlink:href=\"#DejaVuSans-73\" transform=\"translate(306.201172 0)\"/>\n     </g>\n    </g>\n   </g>\n   <g id=\"matplotlib.axis_4\">\n    <g id=\"ytick_6\">\n     <g id=\"line2d_24\">\n      <g>\n       <use xlink:href=\"#mae6bc40bb4\" x=\"530.763068\" y=\"299.518125\" style=\"stroke: #000000; stroke-width: 0.8\"/>\n      </g>\n     </g>\n     <g id=\"text_26\">\n      <!-- 10 -->\n      <g transform=\"translate(511.038068 303.317344) scale(0.1 -0.1)\">\n       <use xlink:href=\"#DejaVuSans-31\"/>\n       <use xlink:href=\"#DejaVuSans-30\" transform=\"translate(63.623047 0)\"/>\n      </g>\n     </g>\n    </g>\n    <g id=\"ytick_7\">\n     <g id=\"line2d_25\">\n      <g>\n       <use xlink:href=\"#mae6bc40bb4\" x=\"530.763068\" y=\"268.718125\" style=\"stroke: #000000; stroke-width: 0.8\"/>\n      </g>\n     </g>\n     <g id=\"text_27\">\n      <!-- 20 -->\n      <g transform=\"translate(511.038068 272.517344) scale(0.1 -0.1)\">\n       <use xlink:href=\"#DejaVuSans-32\"/>\n       <use xlink:href=\"#DejaVuSans-30\" transform=\"translate(63.623047 0)\"/>\n      </g>\n     </g>\n    </g>\n    <g id=\"ytick_8\">\n     <g id=\"line2d_26\">\n      <g>\n       <use xlink:href=\"#mae6bc40bb4\" x=\"530.763068\" y=\"237.918125\" style=\"stroke: #000000; stroke-width: 0.8\"/>\n      </g>\n     </g>\n     <g id=\"text_28\">\n      <!-- 30 -->\n      <g transform=\"translate(511.038068 241.717344) scale(0.1 -0.1)\">\n       <use xlink:href=\"#DejaVuSans-33\"/>\n       <use xlink:href=\"#DejaVuSans-30\" transform=\"translate(63.623047 0)\"/>\n      </g>\n     </g>\n    </g>\n    <g id=\"ytick_9\">\n     <g id=\"line2d_27\">\n      <g>\n       <use xlink:href=\"#mae6bc40bb4\" x=\"530.763068\" y=\"207.118125\" style=\"stroke: #000000; stroke-width: 0.8\"/>\n      </g>\n     </g>\n     <g id=\"text_29\">\n      <!-- 40 -->\n      <g transform=\"translate(511.038068 210.917344) scale(0.1 -0.1)\">\n       <use xlink:href=\"#DejaVuSans-34\"/>\n       <use xlink:href=\"#DejaVuSans-30\" transform=\"translate(63.623047 0)\"/>\n      </g>\n     </g>\n    </g>\n    <g id=\"ytick_10\">\n     <g id=\"line2d_28\">\n      <g>\n       <use xlink:href=\"#mae6bc40bb4\" x=\"530.763068\" y=\"176.318125\" style=\"stroke: #000000; stroke-width: 0.8\"/>\n      </g>\n     </g>\n     <g id=\"text_30\">\n      <!-- 50 -->\n      <g transform=\"translate(511.038068 180.117344) scale(0.1 -0.1)\">\n       <use xlink:href=\"#DejaVuSans-35\"/>\n       <use xlink:href=\"#DejaVuSans-30\" transform=\"translate(63.623047 0)\"/>\n      </g>\n     </g>\n    </g>\n    <g id=\"ytick_11\">\n     <g id=\"line2d_29\">\n      <g>\n       <use xlink:href=\"#mae6bc40bb4\" x=\"530.763068\" y=\"145.518125\" style=\"stroke: #000000; stroke-width: 0.8\"/>\n      </g>\n     </g>\n     <g id=\"text_31\">\n      <!-- 60 -->\n      <g transform=\"translate(511.038068 149.317344) scale(0.1 -0.1)\">\n       <use xlink:href=\"#DejaVuSans-36\"/>\n       <use xlink:href=\"#DejaVuSans-30\" transform=\"translate(63.623047 0)\"/>\n      </g>\n     </g>\n    </g>\n    <g id=\"ytick_12\">\n     <g id=\"line2d_30\">\n      <g>\n       <use xlink:href=\"#mae6bc40bb4\" x=\"530.763068\" y=\"114.718125\" style=\"stroke: #000000; stroke-width: 0.8\"/>\n      </g>\n     </g>\n     <g id=\"text_32\">\n      <!-- 70 -->\n      <g transform=\"translate(511.038068 118.517344) scale(0.1 -0.1)\">\n       <defs>\n        <path id=\"DejaVuSans-37\" d=\"M 525 4666 \nL 3525 4666 \nL 3525 4397 \nL 1831 0 \nL 1172 0 \nL 2766 4134 \nL 525 4134 \nL 525 4666 \nz\n\" transform=\"scale(0.015625)\"/>\n       </defs>\n       <use xlink:href=\"#DejaVuSans-37\"/>\n       <use xlink:href=\"#DejaVuSans-30\" transform=\"translate(63.623047 0)\"/>\n      </g>\n     </g>\n    </g>\n    <g id=\"ytick_13\">\n     <g id=\"line2d_31\">\n      <g>\n       <use xlink:href=\"#mae6bc40bb4\" x=\"530.763068\" y=\"83.918125\" style=\"stroke: #000000; stroke-width: 0.8\"/>\n      </g>\n     </g>\n     <g id=\"text_33\">\n      <!-- 80 -->\n      <g transform=\"translate(511.038068 87.717344) scale(0.1 -0.1)\">\n       <defs>\n        <path id=\"DejaVuSans-38\" d=\"M 2034 2216 \nQ 1584 2216 1326 1975 \nQ 1069 1734 1069 1313 \nQ 1069 891 1326 650 \nQ 1584 409 2034 409 \nQ 2484 409 2743 651 \nQ 3003 894 3003 1313 \nQ 3003 1734 2745 1975 \nQ 2488 2216 2034 2216 \nz\nM 1403 2484 \nQ 997 2584 770 2862 \nQ 544 3141 544 3541 \nQ 544 4100 942 4425 \nQ 1341 4750 2034 4750 \nQ 2731 4750 3128 4425 \nQ 3525 4100 3525 3541 \nQ 3525 3141 3298 2862 \nQ 3072 2584 2669 2484 \nQ 3125 2378 3379 2068 \nQ 3634 1759 3634 1313 \nQ 3634 634 3220 271 \nQ 2806 -91 2034 -91 \nQ 1263 -91 848 271 \nQ 434 634 434 1313 \nQ 434 1759 690 2068 \nQ 947 2378 1403 2484 \nz\nM 1172 3481 \nQ 1172 3119 1398 2916 \nQ 1625 2713 2034 2713 \nQ 2441 2713 2670 2916 \nQ 2900 3119 2900 3481 \nQ 2900 3844 2670 4047 \nQ 2441 4250 2034 4250 \nQ 1625 4250 1398 4047 \nQ 1172 3844 1172 3481 \nz\n\" transform=\"scale(0.015625)\"/>\n       </defs>\n       <use xlink:href=\"#DejaVuSans-38\"/>\n       <use xlink:href=\"#DejaVuSans-30\" transform=\"translate(63.623047 0)\"/>\n      </g>\n     </g>\n    </g>\n    <g id=\"ytick_14\">\n     <g id=\"line2d_32\">\n      <g>\n       <use xlink:href=\"#mae6bc40bb4\" x=\"530.763068\" y=\"53.118125\" style=\"stroke: #000000; stroke-width: 0.8\"/>\n      </g>\n     </g>\n     <g id=\"text_34\">\n      <!-- 90 -->\n      <g transform=\"translate(511.038068 56.917344) scale(0.1 -0.1)\">\n       <defs>\n        <path id=\"DejaVuSans-39\" d=\"M 703 97 \nL 703 672 \nQ 941 559 1184 500 \nQ 1428 441 1663 441 \nQ 2288 441 2617 861 \nQ 2947 1281 2994 2138 \nQ 2813 1869 2534 1725 \nQ 2256 1581 1919 1581 \nQ 1219 1581 811 2004 \nQ 403 2428 403 3163 \nQ 403 3881 828 4315 \nQ 1253 4750 1959 4750 \nQ 2769 4750 3195 4129 \nQ 3622 3509 3622 2328 \nQ 3622 1225 3098 567 \nQ 2575 -91 1691 -91 \nQ 1453 -91 1209 -44 \nQ 966 3 703 97 \nz\nM 1959 2075 \nQ 2384 2075 2632 2365 \nQ 2881 2656 2881 3163 \nQ 2881 3666 2632 3958 \nQ 2384 4250 1959 4250 \nQ 1534 4250 1286 3958 \nQ 1038 3666 1038 3163 \nQ 1038 2656 1286 2365 \nQ 1534 2075 1959 2075 \nz\n\" transform=\"scale(0.015625)\"/>\n       </defs>\n       <use xlink:href=\"#DejaVuSans-39\"/>\n       <use xlink:href=\"#DejaVuSans-30\" transform=\"translate(63.623047 0)\"/>\n      </g>\n     </g>\n    </g>\n    <g id=\"ytick_15\">\n     <g id=\"line2d_33\">\n      <g>\n       <use xlink:href=\"#mae6bc40bb4\" x=\"530.763068\" y=\"22.318125\" style=\"stroke: #000000; stroke-width: 0.8\"/>\n      </g>\n     </g>\n     <g id=\"text_35\">\n      <!-- 100 -->\n      <g transform=\"translate(504.675568 26.117344) scale(0.1 -0.1)\">\n       <use xlink:href=\"#DejaVuSans-31\"/>\n       <use xlink:href=\"#DejaVuSans-30\" transform=\"translate(63.623047 0)\"/>\n       <use xlink:href=\"#DejaVuSans-30\" transform=\"translate(127.246094 0)\"/>\n      </g>\n     </g>\n    </g>\n    <g id=\"text_36\">\n     <!-- Accuracy (%) -->\n     <g transform=\"translate(498.595881 193.987656) rotate(-90) scale(0.1 -0.1)\">\n      <defs>\n       <path id=\"DejaVuSans-41\" d=\"M 2188 4044 \nL 1331 1722 \nL 3047 1722 \nL 2188 4044 \nz\nM 1831 4666 \nL 2547 4666 \nL 4325 0 \nL 3669 0 \nL 3244 1197 \nL 1141 1197 \nL 716 0 \nL 50 0 \nL 1831 4666 \nz\n\" transform=\"scale(0.015625)\"/>\n       <path id=\"DejaVuSans-75\" d=\"M 544 1381 \nL 544 3500 \nL 1119 3500 \nL 1119 1403 \nQ 1119 906 1312 657 \nQ 1506 409 1894 409 \nQ 2359 409 2629 706 \nQ 2900 1003 2900 1516 \nL 2900 3500 \nL 3475 3500 \nL 3475 0 \nL 2900 0 \nL 2900 538 \nQ 2691 219 2414 64 \nQ 2138 -91 1772 -91 \nQ 1169 -91 856 284 \nQ 544 659 544 1381 \nz\nM 1991 3584 \nL 1991 3584 \nz\n\" transform=\"scale(0.015625)\"/>\n       <path id=\"DejaVuSans-79\" d=\"M 2059 -325 \nQ 1816 -950 1584 -1140 \nQ 1353 -1331 966 -1331 \nL 506 -1331 \nL 506 -850 \nL 844 -850 \nQ 1081 -850 1212 -737 \nQ 1344 -625 1503 -206 \nL 1606 56 \nL 191 3500 \nL 800 3500 \nL 1894 763 \nL 2988 3500 \nL 3597 3500 \nL 2059 -325 \nz\n\" transform=\"scale(0.015625)\"/>\n       <path id=\"DejaVuSans-28\" d=\"M 1984 4856 \nQ 1566 4138 1362 3434 \nQ 1159 2731 1159 2009 \nQ 1159 1288 1364 580 \nQ 1569 -128 1984 -844 \nL 1484 -844 \nQ 1016 -109 783 600 \nQ 550 1309 550 2009 \nQ 550 2706 781 3412 \nQ 1013 4119 1484 4856 \nL 1984 4856 \nz\n\" transform=\"scale(0.015625)\"/>\n       <path id=\"DejaVuSans-25\" d=\"M 4653 2053 \nQ 4381 2053 4226 1822 \nQ 4072 1591 4072 1178 \nQ 4072 772 4226 539 \nQ 4381 306 4653 306 \nQ 4919 306 5073 539 \nQ 5228 772 5228 1178 \nQ 5228 1588 5073 1820 \nQ 4919 2053 4653 2053 \nz\nM 4653 2450 \nQ 5147 2450 5437 2106 \nQ 5728 1763 5728 1178 \nQ 5728 594 5436 251 \nQ 5144 -91 4653 -91 \nQ 4153 -91 3862 251 \nQ 3572 594 3572 1178 \nQ 3572 1766 3864 2108 \nQ 4156 2450 4653 2450 \nz\nM 1428 4353 \nQ 1159 4353 1004 4120 \nQ 850 3888 850 3481 \nQ 850 3069 1003 2837 \nQ 1156 2606 1428 2606 \nQ 1700 2606 1854 2837 \nQ 2009 3069 2009 3481 \nQ 2009 3884 1853 4118 \nQ 1697 4353 1428 4353 \nz\nM 4250 4750 \nL 4750 4750 \nL 1831 -91 \nL 1331 -91 \nL 4250 4750 \nz\nM 1428 4750 \nQ 1922 4750 2215 4408 \nQ 2509 4066 2509 3481 \nQ 2509 2891 2217 2550 \nQ 1925 2209 1428 2209 \nQ 931 2209 642 2551 \nQ 353 2894 353 3481 \nQ 353 4063 643 4406 \nQ 934 4750 1428 4750 \nz\n\" transform=\"scale(0.015625)\"/>\n       <path id=\"DejaVuSans-29\" d=\"M 513 4856 \nL 1013 4856 \nQ 1481 4119 1714 3412 \nQ 1947 2706 1947 2009 \nQ 1947 1309 1714 600 \nQ 1481 -109 1013 -844 \nL 513 -844 \nQ 928 -128 1133 580 \nQ 1338 1288 1338 2009 \nQ 1338 2731 1133 3434 \nQ 928 4138 513 4856 \nz\n\" transform=\"scale(0.015625)\"/>\n      </defs>\n      <use xlink:href=\"#DejaVuSans-41\"/>\n      <use xlink:href=\"#DejaVuSans-63\" transform=\"translate(66.658203 0)\"/>\n      <use xlink:href=\"#DejaVuSans-63\" transform=\"translate(121.638672 0)\"/>\n      <use xlink:href=\"#DejaVuSans-75\" transform=\"translate(176.619141 0)\"/>\n      <use xlink:href=\"#DejaVuSans-72\" transform=\"translate(239.998047 0)\"/>\n      <use xlink:href=\"#DejaVuSans-61\" transform=\"translate(281.111328 0)\"/>\n      <use xlink:href=\"#DejaVuSans-63\" transform=\"translate(342.390625 0)\"/>\n      <use xlink:href=\"#DejaVuSans-79\" transform=\"translate(397.371094 0)\"/>\n      <use xlink:href=\"#DejaVuSans-20\" transform=\"translate(456.550781 0)\"/>\n      <use xlink:href=\"#DejaVuSans-28\" transform=\"translate(488.337891 0)\"/>\n      <use xlink:href=\"#DejaVuSans-25\" transform=\"translate(527.351562 0)\"/>\n      <use xlink:href=\"#DejaVuSans-29\" transform=\"translate(622.371094 0)\"/>\n     </g>\n    </g>\n   </g>\n   <g id=\"line2d_34\">\n    <path d=\"M 549.209349 285.721151 \nL 555.462326 207.488051 \nL 561.715302 129.374843 \nL 567.968279 88.425779 \nL 574.221256 75.649531 \nL 580.474232 66.024531 \nL 586.727209 61.503178 \nL 592.980185 57.409991 \nL 599.233162 54.361503 \nL 605.486139 51.80968 \nL 611.739115 50.079905 \nL 617.992092 47.802122 \nL 624.245068 45.849699 \nL 630.498045 44.291206 \nL 636.751022 43.297876 \nL 643.003998 41.619493 \nL 649.256975 41.05433 \nL 655.509951 39.786983 \nL 661.762928 38.656656 \nL 668.015905 37.851714 \nL 674.268881 37.029641 \nL 680.521858 36.24183 \nL 686.774835 35.214262 \nL 693.027811 34.563447 \nL 699.280788 33.775635 \nL 705.533764 32.970716 \nL 711.786741 33.022084 \nL 718.039718 32.028754 \nL 724.292694 31.617717 \nL 730.545671 31.275203 \nL 736.798647 30.624387 \nL 743.051624 30.384632 \nL 749.304601 29.802338 \nL 755.557577 29.322803 \nL 761.810554 29.562559 \nL 768.06353 28.534991 \nL 774.316507 28.243845 \nL 780.569484 27.986935 \nL 786.82246 27.781417 \nL 793.075437 27.507401 \nL 799.328413 27.079257 \nL 805.58139 26.822348 \nL 811.834367 26.839478 \nL 818.087343 26.171556 \nL 824.34032 26.154425 \nL 830.593297 25.829018 \nL 836.846273 25.966038 \nL 843.09925 25.469373 \nL 849.352226 25.126834 \nL 855.605203 24.972708 \nL 861.85818 24.732928 \nL 868.111156 24.561671 \nL 874.364133 24.407544 \nL 880.617109 24.184896 \nL 886.870086 24.116397 \nL 893.123063 24.236263 \nL 899.376039 24.047876 \nL 905.629016 23.6711 \nL 911.881992 23.65397 \nL 918.134969 23.397084 \n\" clip-path=\"url(#pea0074263b)\" style=\"fill: none; stroke: #1f77b4; stroke-width: 1.5; stroke-linecap: square\"/>\n   </g>\n   <g id=\"line2d_35\">\n    <path d=\"M 549.209349 213.432123 \nL 555.462326 181.554127 \nL 561.715302 105.786144 \nL 567.968279 83.302134 \nL 574.221256 73.44612 \nL 580.474232 65.90013 \nL 586.727209 61.89612 \nL 592.980185 57.892111 \nL 599.233162 55.73612 \nL 605.486139 54.042111 \nL 611.739115 51.88612 \nL 617.992092 50.654116 \nL 624.245068 49.422134 \nL 630.498045 46.034139 \nL 636.751022 46.188125 \nL 643.003998 44.032134 \nL 649.256975 43.724139 \nL 655.509951 43.57013 \nL 661.762928 42.338125 \nL 668.015905 41.87612 \nL 674.268881 43.57013 \nL 680.521858 41.568125 \nL 686.774835 41.10612 \nL 693.027811 41.414116 \nL 699.280788 41.87612 \nL 705.533764 40.182134 \nL 711.786741 39.56612 \nL 718.039718 39.874116 \nL 724.292694 40.182134 \nL 730.545671 39.56612 \nL 736.798647 39.104116 \nL 743.051624 37.564116 \nL 749.304601 37.41013 \nL 755.557577 37.718125 \nL 761.810554 37.872111 \nL 768.06353 37.564116 \nL 774.316507 37.564116 \nL 780.569484 37.25612 \nL 786.82246 37.25612 \nL 793.075437 36.64013 \nL 799.328413 37.25612 \nL 805.58139 38.02612 \nL 811.834367 36.794116 \nL 818.087343 37.564116 \nL 824.34032 36.64013 \nL 830.593297 36.48612 \nL 836.846273 36.64013 \nL 843.09925 36.332111 \nL 849.352226 36.794116 \nL 855.605203 36.024116 \nL 861.85818 37.718125 \nL 868.111156 36.948125 \nL 874.364133 37.102111 \nL 880.617109 36.178125 \nL 886.870086 36.64013 \nL 893.123063 35.87013 \nL 899.376039 37.718125 \nL 905.629016 37.102111 \nL 911.881992 35.87013 \nL 918.134969 36.64013 \n\" clip-path=\"url(#pea0074263b)\" style=\"fill: none; stroke: #ff7f0e; stroke-width: 1.5; stroke-linecap: square\"/>\n   </g>\n   <g id=\"patch_9\">\n    <path d=\"M 530.763068 299.518125 \nL 530.763068 22.318125 \n\" style=\"fill: none; stroke: #000000; stroke-width: 0.8; stroke-linejoin: miter; stroke-linecap: square\"/>\n   </g>\n   <g id=\"patch_10\">\n    <path d=\"M 936.58125 299.518125 \nL 936.58125 22.318125 \n\" style=\"fill: none; stroke: #000000; stroke-width: 0.8; stroke-linejoin: miter; stroke-linecap: square\"/>\n   </g>\n   <g id=\"patch_11\">\n    <path d=\"M 530.763068 299.518125 \nL 936.58125 299.518125 \n\" style=\"fill: none; stroke: #000000; stroke-width: 0.8; stroke-linejoin: miter; stroke-linecap: square\"/>\n   </g>\n   <g id=\"patch_12\">\n    <path d=\"M 530.763068 22.318125 \nL 936.58125 22.318125 \n\" style=\"fill: none; stroke: #000000; stroke-width: 0.8; stroke-linejoin: miter; stroke-linecap: square\"/>\n   </g>\n   <g id=\"text_37\">\n    <!-- Final model test accuracy: 95.35% -->\n    <g transform=\"translate(630.474972 16.318125) scale(0.12 -0.12)\">\n     <defs>\n      <path id=\"DejaVuSans-46\" d=\"M 628 4666 \nL 3309 4666 \nL 3309 4134 \nL 1259 4134 \nL 1259 2759 \nL 3109 2759 \nL 3109 2228 \nL 1259 2228 \nL 1259 0 \nL 628 0 \nL 628 4666 \nz\n\" transform=\"scale(0.015625)\"/>\n      <path id=\"DejaVuSans-6d\" d=\"M 3328 2828 \nQ 3544 3216 3844 3400 \nQ 4144 3584 4550 3584 \nQ 5097 3584 5394 3201 \nQ 5691 2819 5691 2113 \nL 5691 0 \nL 5113 0 \nL 5113 2094 \nQ 5113 2597 4934 2840 \nQ 4756 3084 4391 3084 \nQ 3944 3084 3684 2787 \nQ 3425 2491 3425 1978 \nL 3425 0 \nL 2847 0 \nL 2847 2094 \nQ 2847 2600 2669 2842 \nQ 2491 3084 2119 3084 \nQ 1678 3084 1418 2786 \nQ 1159 2488 1159 1978 \nL 1159 0 \nL 581 0 \nL 581 3500 \nL 1159 3500 \nL 1159 2956 \nQ 1356 3278 1631 3431 \nQ 1906 3584 2284 3584 \nQ 2666 3584 2933 3390 \nQ 3200 3197 3328 2828 \nz\n\" transform=\"scale(0.015625)\"/>\n      <path id=\"DejaVuSans-3a\" d=\"M 750 794 \nL 1409 794 \nL 1409 0 \nL 750 0 \nL 750 794 \nz\nM 750 3309 \nL 1409 3309 \nL 1409 2516 \nL 750 2516 \nL 750 3309 \nz\n\" transform=\"scale(0.015625)\"/>\n     </defs>\n     <use xlink:href=\"#DejaVuSans-46\"/>\n     <use xlink:href=\"#DejaVuSans-69\" transform=\"translate(50.269531 0)\"/>\n     <use xlink:href=\"#DejaVuSans-6e\" transform=\"translate(78.052734 0)\"/>\n     <use xlink:href=\"#DejaVuSans-61\" transform=\"translate(141.431641 0)\"/>\n     <use xlink:href=\"#DejaVuSans-6c\" transform=\"translate(202.710938 0)\"/>\n     <use xlink:href=\"#DejaVuSans-20\" transform=\"translate(230.494141 0)\"/>\n     <use xlink:href=\"#DejaVuSans-6d\" transform=\"translate(262.28125 0)\"/>\n     <use xlink:href=\"#DejaVuSans-6f\" transform=\"translate(359.693359 0)\"/>\n     <use xlink:href=\"#DejaVuSans-64\" transform=\"translate(420.875 0)\"/>\n     <use xlink:href=\"#DejaVuSans-65\" transform=\"translate(484.351562 0)\"/>\n     <use xlink:href=\"#DejaVuSans-6c\" transform=\"translate(545.875 0)\"/>\n     <use xlink:href=\"#DejaVuSans-20\" transform=\"translate(573.658203 0)\"/>\n     <use xlink:href=\"#DejaVuSans-74\" transform=\"translate(605.445312 0)\"/>\n     <use xlink:href=\"#DejaVuSans-65\" transform=\"translate(644.654297 0)\"/>\n     <use xlink:href=\"#DejaVuSans-73\" transform=\"translate(706.177734 0)\"/>\n     <use xlink:href=\"#DejaVuSans-74\" transform=\"translate(758.277344 0)\"/>\n     <use xlink:href=\"#DejaVuSans-20\" transform=\"translate(797.486328 0)\"/>\n     <use xlink:href=\"#DejaVuSans-61\" transform=\"translate(829.273438 0)\"/>\n     <use xlink:href=\"#DejaVuSans-63\" transform=\"translate(890.552734 0)\"/>\n     <use xlink:href=\"#DejaVuSans-63\" transform=\"translate(945.533203 0)\"/>\n     <use xlink:href=\"#DejaVuSans-75\" transform=\"translate(1000.513672 0)\"/>\n     <use xlink:href=\"#DejaVuSans-72\" transform=\"translate(1063.892578 0)\"/>\n     <use xlink:href=\"#DejaVuSans-61\" transform=\"translate(1105.005859 0)\"/>\n     <use xlink:href=\"#DejaVuSans-63\" transform=\"translate(1166.285156 0)\"/>\n     <use xlink:href=\"#DejaVuSans-79\" transform=\"translate(1221.265625 0)\"/>\n     <use xlink:href=\"#DejaVuSans-3a\" transform=\"translate(1273.195312 0)\"/>\n     <use xlink:href=\"#DejaVuSans-20\" transform=\"translate(1306.886719 0)\"/>\n     <use xlink:href=\"#DejaVuSans-39\" transform=\"translate(1338.673828 0)\"/>\n     <use xlink:href=\"#DejaVuSans-35\" transform=\"translate(1402.296875 0)\"/>\n     <use xlink:href=\"#DejaVuSans-2e\" transform=\"translate(1465.919922 0)\"/>\n     <use xlink:href=\"#DejaVuSans-33\" transform=\"translate(1497.707031 0)\"/>\n     <use xlink:href=\"#DejaVuSans-35\" transform=\"translate(1561.330078 0)\"/>\n     <use xlink:href=\"#DejaVuSans-25\" transform=\"translate(1624.953125 0)\"/>\n    </g>\n   </g>\n   <g id=\"legend_2\">\n    <g id=\"patch_13\">\n     <path d=\"M 873.59375 294.518125 \nL 929.58125 294.518125 \nQ 931.58125 294.518125 931.58125 292.518125 \nL 931.58125 264.161875 \nQ 931.58125 262.161875 929.58125 262.161875 \nL 873.59375 262.161875 \nQ 871.59375 262.161875 871.59375 264.161875 \nL 871.59375 292.518125 \nQ 871.59375 294.518125 873.59375 294.518125 \nz\n\" style=\"fill: #ffffff; opacity: 0.8; stroke: #cccccc; stroke-linejoin: miter\"/>\n    </g>\n    <g id=\"line2d_36\">\n     <path d=\"M 875.59375 270.260313 \nL 885.59375 270.260313 \nL 895.59375 270.260313 \n\" style=\"fill: none; stroke: #1f77b4; stroke-width: 1.5; stroke-linecap: square\"/>\n    </g>\n    <g id=\"text_38\">\n     <!-- Train -->\n     <g transform=\"translate(903.59375 273.760313) scale(0.1 -0.1)\">\n      <use xlink:href=\"#DejaVuSans-54\"/>\n      <use xlink:href=\"#DejaVuSans-72\" transform=\"translate(46.333984 0)\"/>\n      <use xlink:href=\"#DejaVuSans-61\" transform=\"translate(87.447266 0)\"/>\n      <use xlink:href=\"#DejaVuSans-69\" transform=\"translate(148.726562 0)\"/>\n      <use xlink:href=\"#DejaVuSans-6e\" transform=\"translate(176.509766 0)\"/>\n     </g>\n    </g>\n    <g id=\"line2d_37\">\n     <path d=\"M 875.59375 284.938438 \nL 885.59375 284.938438 \nL 895.59375 284.938438 \n\" style=\"fill: none; stroke: #ff7f0e; stroke-width: 1.5; stroke-linecap: square\"/>\n    </g>\n    <g id=\"text_39\">\n     <!-- Test -->\n     <g transform=\"translate(903.59375 288.438438) scale(0.1 -0.1)\">\n      <use xlink:href=\"#DejaVuSans-54\"/>\n      <use xlink:href=\"#DejaVuSans-65\" transform=\"translate(44.083984 0)\"/>\n      <use xlink:href=\"#DejaVuSans-73\" transform=\"translate(105.607422 0)\"/>\n      <use xlink:href=\"#DejaVuSans-74\" transform=\"translate(157.707031 0)\"/>\n     </g>\n    </g>\n   </g>\n  </g>\n </g>\n <defs>\n  <clipPath id=\"p91f0f67024\">\n   <rect x=\"43.78125\" y=\"22.318125\" width=\"405.818182\" height=\"277.2\"/>\n  </clipPath>\n  <clipPath id=\"pea0074263b\">\n   <rect x=\"530.763068\" y=\"22.318125\" width=\"405.818182\" height=\"277.2\"/>\n  </clipPath>\n </defs>\n</svg>\n"
          },
          "metadata": {}
        }
      ]
    },
    {
      "cell_type": "code",
      "source": [],
      "metadata": {
        "id": "fi9dh5dPzoCs"
      },
      "execution_count": null,
      "outputs": []
    }
  ]
}