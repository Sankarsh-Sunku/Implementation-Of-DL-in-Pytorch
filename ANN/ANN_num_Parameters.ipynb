{
  "nbformat": 4,
  "nbformat_minor": 0,
  "metadata": {
    "colab": {
      "provenance": [],
      "authorship_tag": "ABX9TyOa8edygB1ALn9wN5JjT6Lt",
      "include_colab_link": true
    },
    "kernelspec": {
      "name": "python3",
      "display_name": "Python 3"
    },
    "language_info": {
      "name": "python"
    }
  },
  "cells": [
    {
      "cell_type": "markdown",
      "metadata": {
        "id": "view-in-github",
        "colab_type": "text"
      },
      "source": [
        "<a href=\"https://colab.research.google.com/github/Sankarsh-Sunku/Implementation-Of-DL-in-Pytorch/blob/main/ANN/ANN_num_Parameters.ipynb\" target=\"_parent\"><img src=\"https://colab.research.google.com/assets/colab-badge.svg\" alt=\"Open In Colab\"/></a>"
      ]
    },
    {
      "cell_type": "code",
      "execution_count": 1,
      "metadata": {
        "id": "ePy6KvAx7qF0"
      },
      "outputs": [],
      "source": [
        "# import libraries\n",
        "import numpy as np\n",
        "import torch\n",
        "import torch.nn as nn"
      ]
    },
    {
      "cell_type": "code",
      "source": [
        "# build two models\n",
        "\n",
        "widenet = nn.Sequential(\n",
        "    nn.Linear(2,4),  # hidden layer\n",
        "    nn.Linear(4,3),  # output layer\n",
        "    )\n",
        "\n",
        "\n",
        "deepnet = nn.Sequential(\n",
        "    nn.Linear(2,2),  # hidden layer\n",
        "    nn.Linear(2,2),  # hidden layer\n",
        "    nn.Linear(2,3),  # output layer\n",
        "    )\n",
        "\n",
        "# print them out to have a look\n",
        "print(widenet)\n",
        "print(' ')\n",
        "print(deepnet)"
      ],
      "metadata": {
        "colab": {
          "base_uri": "https://localhost:8080/"
        },
        "id": "C18wV1bo8JFH",
        "outputId": "0177a5de-2801-4fdd-d5c6-76bf6c8a88bd"
      },
      "execution_count": 2,
      "outputs": [
        {
          "output_type": "stream",
          "name": "stdout",
          "text": [
            "Sequential(\n",
            "  (0): Linear(in_features=2, out_features=4, bias=True)\n",
            "  (1): Linear(in_features=4, out_features=3, bias=True)\n",
            ")\n",
            " \n",
            "Sequential(\n",
            "  (0): Linear(in_features=2, out_features=2, bias=True)\n",
            "  (1): Linear(in_features=2, out_features=2, bias=True)\n",
            "  (2): Linear(in_features=2, out_features=3, bias=True)\n",
            ")\n"
          ]
        }
      ]
    },
    {
      "cell_type": "code",
      "source": [
        "# check out the parameters\n",
        "for p in deepnet.named_parameters():\n",
        "  print(p)\n",
        "  print(' ')"
      ],
      "metadata": {
        "colab": {
          "base_uri": "https://localhost:8080/"
        },
        "id": "c5aNa0tN8LFK",
        "outputId": "8aa61b2f-ab05-4706-dc06-f196820464fa"
      },
      "execution_count": 3,
      "outputs": [
        {
          "output_type": "stream",
          "name": "stdout",
          "text": [
            "('0.weight', Parameter containing:\n",
            "tensor([[0.1718, 0.3969],\n",
            "        [0.4615, 0.2472]], requires_grad=True))\n",
            " \n",
            "('0.bias', Parameter containing:\n",
            "tensor([ 0.1383, -0.4396], requires_grad=True))\n",
            " \n",
            "('1.weight', Parameter containing:\n",
            "tensor([[ 0.1871, -0.1694],\n",
            "        [-0.2258,  0.4404]], requires_grad=True))\n",
            " \n",
            "('1.bias', Parameter containing:\n",
            "tensor([-0.0050,  0.5409], requires_grad=True))\n",
            " \n",
            "('2.weight', Parameter containing:\n",
            "tensor([[-0.4148,  0.0994],\n",
            "        [-0.0265, -0.0168],\n",
            "        [-0.3621, -0.0458]], requires_grad=True))\n",
            " \n",
            "('2.bias', Parameter containing:\n",
            "tensor([ 0.5313, -0.5531, -0.0809], requires_grad=True))\n",
            " \n"
          ]
        }
      ]
    },
    {
      "cell_type": "code",
      "source": [
        "# count the number of nodes ( = the number of biases)\n",
        "\n",
        "# named_parameters() is an iterable that returns the tuple (name,numbers)\n",
        "numNodesInWide = 0\n",
        "for p in widenet.named_parameters():\n",
        "  if 'bias' in p[0]:\n",
        "    numNodesInWide += len(p[1])\n",
        "\n",
        "numNodesInDeep = 0\n",
        "for paramName,paramVect in deepnet.named_parameters():\n",
        "  if 'bias' in paramName:\n",
        "    numNodesInDeep += len(paramVect)\n",
        "\n",
        "\n",
        "print('There are %s nodes in the wide network.' %numNodesInWide)\n",
        "print('There are %s nodes in the deep network.' %numNodesInDeep)"
      ],
      "metadata": {
        "colab": {
          "base_uri": "https://localhost:8080/"
        },
        "id": "GDrKxlpZ8OYa",
        "outputId": "8d97728f-0152-41e6-a513-511aec4c1d13"
      },
      "execution_count": 4,
      "outputs": [
        {
          "output_type": "stream",
          "name": "stdout",
          "text": [
            "There are 7 nodes in the wide network.\n",
            "There are 7 nodes in the deep network.\n"
          ]
        }
      ]
    },
    {
      "cell_type": "code",
      "source": [
        "# just the parameters\n",
        "for p in widenet.parameters():\n",
        "  print(p)\n",
        "  print(' ')"
      ],
      "metadata": {
        "colab": {
          "base_uri": "https://localhost:8080/"
        },
        "id": "x__eI7cY8UY5",
        "outputId": "3cd93810-2b60-4d76-c790-ac51af52fe23"
      },
      "execution_count": 6,
      "outputs": [
        {
          "output_type": "stream",
          "name": "stdout",
          "text": [
            "Parameter containing:\n",
            "tensor([[-0.0901, -0.2126],\n",
            "        [ 0.4673, -0.5986],\n",
            "        [-0.2724,  0.1243],\n",
            "        [-0.3050,  0.0381]], requires_grad=True)\n",
            " \n",
            "Parameter containing:\n",
            "tensor([ 0.4403, -0.6690, -0.6978, -0.2262], requires_grad=True)\n",
            " \n",
            "Parameter containing:\n",
            "tensor([[ 0.4115,  0.0530, -0.1490,  0.2904],\n",
            "        [-0.0731,  0.0756,  0.0400, -0.2141],\n",
            "        [-0.1635,  0.1332, -0.4989, -0.3412]], requires_grad=True)\n",
            " \n",
            "Parameter containing:\n",
            "tensor([-0.4664,  0.3418, -0.1733], requires_grad=True)\n",
            " \n"
          ]
        }
      ]
    },
    {
      "cell_type": "code",
      "source": [
        "# now count the total number of trainable parameters\n",
        "nparams = 0\n",
        "for p in widenet.parameters():\n",
        "  if p.requires_grad:\n",
        "    print('This piece has %s parameters' %p.numel())\n",
        "    nparams += p.numel()\n",
        "\n",
        "print('\\n\\nTotal of %s parameters'%nparams)"
      ],
      "metadata": {
        "colab": {
          "base_uri": "https://localhost:8080/"
        },
        "id": "7x8Q2kuM8p9p",
        "outputId": "b2932681-8165-4840-e145-b99ae7242cd1"
      },
      "execution_count": 7,
      "outputs": [
        {
          "output_type": "stream",
          "name": "stdout",
          "text": [
            "This piece has 8 parameters\n",
            "This piece has 4 parameters\n",
            "This piece has 12 parameters\n",
            "This piece has 3 parameters\n",
            "\n",
            "\n",
            "Total of 27 parameters\n"
          ]
        }
      ]
    },
    {
      "cell_type": "code",
      "source": [
        "# btw, can also use list comprehension\n",
        "\n",
        "nparams = np.sum([ p.numel() for p in widenet.parameters() if p.requires_grad ])\n",
        "print('Widenet has %s parameters'%nparams)\n",
        "\n",
        "nparams = np.sum([ p.numel() for p in deepnet.parameters() if p.requires_grad ])\n",
        "print('Deepnet has %s parameters'%nparams)"
      ],
      "metadata": {
        "colab": {
          "base_uri": "https://localhost:8080/"
        },
        "id": "WsKTdPsC8w1e",
        "outputId": "4f33bde4-4753-416d-979e-e1711c96a1c1"
      },
      "execution_count": 8,
      "outputs": [
        {
          "output_type": "stream",
          "name": "stdout",
          "text": [
            "Widenet has 27 parameters\n",
            "Deepnet has 21 parameters\n"
          ]
        }
      ]
    },
    {
      "cell_type": "code",
      "source": [
        "# A nice simple way to print out the model info.\n",
        "from torchsummary import summary\n",
        "summary(widenet,(1,2))\n"
      ],
      "metadata": {
        "colab": {
          "base_uri": "https://localhost:8080/"
        },
        "id": "du2Uzha28yNM",
        "outputId": "c4ffeabe-efb3-4669-8f1f-6d3c89eeedd0"
      },
      "execution_count": 9,
      "outputs": [
        {
          "output_type": "stream",
          "name": "stdout",
          "text": [
            "----------------------------------------------------------------\n",
            "        Layer (type)               Output Shape         Param #\n",
            "================================================================\n",
            "            Linear-1                 [-1, 1, 4]              12\n",
            "            Linear-2                 [-1, 1, 3]              15\n",
            "================================================================\n",
            "Total params: 27\n",
            "Trainable params: 27\n",
            "Non-trainable params: 0\n",
            "----------------------------------------------------------------\n",
            "Input size (MB): 0.00\n",
            "Forward/backward pass size (MB): 0.00\n",
            "Params size (MB): 0.00\n",
            "Estimated Total Size (MB): 0.00\n",
            "----------------------------------------------------------------\n"
          ]
        }
      ]
    },
    {
      "cell_type": "code",
      "source": [],
      "metadata": {
        "id": "Lsh3aaRZ81kN"
      },
      "execution_count": null,
      "outputs": []
    }
  ]
}